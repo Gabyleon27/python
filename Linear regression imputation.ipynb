{
  "nbformat": 4,
  "nbformat_minor": 0,
  "metadata": {
    "colab": {
      "provenance": []
    },
    "kernelspec": {
      "name": "python3",
      "display_name": "Python 3"
    },
    "language_info": {
      "name": "python"
    }
  },
  "cells": [
    {
      "cell_type": "code",
      "execution_count": null,
      "metadata": {
        "id": "FgHNzNhiTp1H"
      },
      "outputs": [],
      "source": [
        "import numpy as np\n",
        "import matplotlib.pyplot as plt  # To visualize\n",
        "import pandas as pd  # To read data\n",
        "from sklearn.linear_model import LinearRegression"
      ]
    },
    {
      "cell_type": "code",
      "source": [
        "data = pd.read_csv('/content/drive/MyDrive/ANA_1005_FACULTY/Week 7 -18th aug/Linear reg.txt',sep=',',names=[\"X\",\"Y\"])  # load data set\n"
      ],
      "metadata": {
        "id": "Jm4fi2ogT286"
      },
      "execution_count": null,
      "outputs": []
    },
    {
      "cell_type": "code",
      "source": [
        "data"
      ],
      "metadata": {
        "colab": {
          "base_uri": "https://localhost:8080/",
          "height": 423
        },
        "id": "TdcGnabBVGHe",
        "outputId": "2bd587a9-30fb-4724-fddc-ec130d604742"
      },
      "execution_count": null,
      "outputs": [
        {
          "output_type": "execute_result",
          "data": {
            "text/plain": [
              "            X          Y\n",
              "0   32.502345  31.707006\n",
              "1   53.426804  68.777596\n",
              "2   61.530358  62.562382\n",
              "3   47.475640  71.546632\n",
              "4   59.813208  87.230925\n",
              "..        ...        ...\n",
              "95  50.030174  81.536991\n",
              "96  49.239765  72.111832\n",
              "97  50.039576  85.232007\n",
              "98  48.149859  66.224958\n",
              "99  25.128485  53.454394\n",
              "\n",
              "[100 rows x 2 columns]"
            ],
            "text/html": [
              "\n",
              "  <div id=\"df-fc87c71c-c212-4d40-9dfd-1159e5b38da5\">\n",
              "    <div class=\"colab-df-container\">\n",
              "      <div>\n",
              "<style scoped>\n",
              "    .dataframe tbody tr th:only-of-type {\n",
              "        vertical-align: middle;\n",
              "    }\n",
              "\n",
              "    .dataframe tbody tr th {\n",
              "        vertical-align: top;\n",
              "    }\n",
              "\n",
              "    .dataframe thead th {\n",
              "        text-align: right;\n",
              "    }\n",
              "</style>\n",
              "<table border=\"1\" class=\"dataframe\">\n",
              "  <thead>\n",
              "    <tr style=\"text-align: right;\">\n",
              "      <th></th>\n",
              "      <th>X</th>\n",
              "      <th>Y</th>\n",
              "    </tr>\n",
              "  </thead>\n",
              "  <tbody>\n",
              "    <tr>\n",
              "      <th>0</th>\n",
              "      <td>32.502345</td>\n",
              "      <td>31.707006</td>\n",
              "    </tr>\n",
              "    <tr>\n",
              "      <th>1</th>\n",
              "      <td>53.426804</td>\n",
              "      <td>68.777596</td>\n",
              "    </tr>\n",
              "    <tr>\n",
              "      <th>2</th>\n",
              "      <td>61.530358</td>\n",
              "      <td>62.562382</td>\n",
              "    </tr>\n",
              "    <tr>\n",
              "      <th>3</th>\n",
              "      <td>47.475640</td>\n",
              "      <td>71.546632</td>\n",
              "    </tr>\n",
              "    <tr>\n",
              "      <th>4</th>\n",
              "      <td>59.813208</td>\n",
              "      <td>87.230925</td>\n",
              "    </tr>\n",
              "    <tr>\n",
              "      <th>...</th>\n",
              "      <td>...</td>\n",
              "      <td>...</td>\n",
              "    </tr>\n",
              "    <tr>\n",
              "      <th>95</th>\n",
              "      <td>50.030174</td>\n",
              "      <td>81.536991</td>\n",
              "    </tr>\n",
              "    <tr>\n",
              "      <th>96</th>\n",
              "      <td>49.239765</td>\n",
              "      <td>72.111832</td>\n",
              "    </tr>\n",
              "    <tr>\n",
              "      <th>97</th>\n",
              "      <td>50.039576</td>\n",
              "      <td>85.232007</td>\n",
              "    </tr>\n",
              "    <tr>\n",
              "      <th>98</th>\n",
              "      <td>48.149859</td>\n",
              "      <td>66.224958</td>\n",
              "    </tr>\n",
              "    <tr>\n",
              "      <th>99</th>\n",
              "      <td>25.128485</td>\n",
              "      <td>53.454394</td>\n",
              "    </tr>\n",
              "  </tbody>\n",
              "</table>\n",
              "<p>100 rows × 2 columns</p>\n",
              "</div>\n",
              "      <button class=\"colab-df-convert\" onclick=\"convertToInteractive('df-fc87c71c-c212-4d40-9dfd-1159e5b38da5')\"\n",
              "              title=\"Convert this dataframe to an interactive table.\"\n",
              "              style=\"display:none;\">\n",
              "        \n",
              "  <svg xmlns=\"http://www.w3.org/2000/svg\" height=\"24px\"viewBox=\"0 0 24 24\"\n",
              "       width=\"24px\">\n",
              "    <path d=\"M0 0h24v24H0V0z\" fill=\"none\"/>\n",
              "    <path d=\"M18.56 5.44l.94 2.06.94-2.06 2.06-.94-2.06-.94-.94-2.06-.94 2.06-2.06.94zm-11 1L8.5 8.5l.94-2.06 2.06-.94-2.06-.94L8.5 2.5l-.94 2.06-2.06.94zm10 10l.94 2.06.94-2.06 2.06-.94-2.06-.94-.94-2.06-.94 2.06-2.06.94z\"/><path d=\"M17.41 7.96l-1.37-1.37c-.4-.4-.92-.59-1.43-.59-.52 0-1.04.2-1.43.59L10.3 9.45l-7.72 7.72c-.78.78-.78 2.05 0 2.83L4 21.41c.39.39.9.59 1.41.59.51 0 1.02-.2 1.41-.59l7.78-7.78 2.81-2.81c.8-.78.8-2.07 0-2.86zM5.41 20L4 18.59l7.72-7.72 1.47 1.35L5.41 20z\"/>\n",
              "  </svg>\n",
              "      </button>\n",
              "      \n",
              "  <style>\n",
              "    .colab-df-container {\n",
              "      display:flex;\n",
              "      flex-wrap:wrap;\n",
              "      gap: 12px;\n",
              "    }\n",
              "\n",
              "    .colab-df-convert {\n",
              "      background-color: #E8F0FE;\n",
              "      border: none;\n",
              "      border-radius: 50%;\n",
              "      cursor: pointer;\n",
              "      display: none;\n",
              "      fill: #1967D2;\n",
              "      height: 32px;\n",
              "      padding: 0 0 0 0;\n",
              "      width: 32px;\n",
              "    }\n",
              "\n",
              "    .colab-df-convert:hover {\n",
              "      background-color: #E2EBFA;\n",
              "      box-shadow: 0px 1px 2px rgba(60, 64, 67, 0.3), 0px 1px 3px 1px rgba(60, 64, 67, 0.15);\n",
              "      fill: #174EA6;\n",
              "    }\n",
              "\n",
              "    [theme=dark] .colab-df-convert {\n",
              "      background-color: #3B4455;\n",
              "      fill: #D2E3FC;\n",
              "    }\n",
              "\n",
              "    [theme=dark] .colab-df-convert:hover {\n",
              "      background-color: #434B5C;\n",
              "      box-shadow: 0px 1px 3px 1px rgba(0, 0, 0, 0.15);\n",
              "      filter: drop-shadow(0px 1px 2px rgba(0, 0, 0, 0.3));\n",
              "      fill: #FFFFFF;\n",
              "    }\n",
              "  </style>\n",
              "\n",
              "      <script>\n",
              "        const buttonEl =\n",
              "          document.querySelector('#df-fc87c71c-c212-4d40-9dfd-1159e5b38da5 button.colab-df-convert');\n",
              "        buttonEl.style.display =\n",
              "          google.colab.kernel.accessAllowed ? 'block' : 'none';\n",
              "\n",
              "        async function convertToInteractive(key) {\n",
              "          const element = document.querySelector('#df-fc87c71c-c212-4d40-9dfd-1159e5b38da5');\n",
              "          const dataTable =\n",
              "            await google.colab.kernel.invokeFunction('convertToInteractive',\n",
              "                                                     [key], {});\n",
              "          if (!dataTable) return;\n",
              "\n",
              "          const docLinkHtml = 'Like what you see? Visit the ' +\n",
              "            '<a target=\"_blank\" href=https://colab.research.google.com/notebooks/data_table.ipynb>data table notebook</a>'\n",
              "            + ' to learn more about interactive tables.';\n",
              "          element.innerHTML = '';\n",
              "          dataTable['output_type'] = 'display_data';\n",
              "          await google.colab.output.renderOutput(dataTable, element);\n",
              "          const docLink = document.createElement('div');\n",
              "          docLink.innerHTML = docLinkHtml;\n",
              "          element.appendChild(docLink);\n",
              "        }\n",
              "      </script>\n",
              "    </div>\n",
              "  </div>\n",
              "  "
            ]
          },
          "metadata": {},
          "execution_count": 5
        }
      ]
    },
    {
      "cell_type": "code",
      "source": [
        "X = data.iloc[:, 0].values.reshape(-1, 1)  # values converts it into a numpy array\n",
        "#iloc” in pandas is used to select rows and columns by number\n"
      ],
      "metadata": {
        "id": "Zb246kyyVEkn"
      },
      "execution_count": null,
      "outputs": []
    },
    {
      "cell_type": "code",
      "source": [
        "X"
      ],
      "metadata": {
        "colab": {
          "base_uri": "https://localhost:8080/"
        },
        "id": "yvS9KneHV3QY",
        "outputId": "6bfba9ff-d218-4487-f6b2-6de315e5940f"
      },
      "execution_count": null,
      "outputs": [
        {
          "output_type": "execute_result",
          "data": {
            "text/plain": [
              "array([[32.50234527],\n",
              "       [53.42680403],\n",
              "       [61.53035803],\n",
              "       [47.47563963],\n",
              "       [59.81320787],\n",
              "       [55.14218841],\n",
              "       [52.21179669],\n",
              "       [39.29956669],\n",
              "       [48.10504169],\n",
              "       [52.55001444],\n",
              "       [45.41973014],\n",
              "       [54.35163488],\n",
              "       [44.1640495 ],\n",
              "       [58.16847072],\n",
              "       [56.72720806],\n",
              "       [48.95588857],\n",
              "       [44.68719623],\n",
              "       [60.29732685],\n",
              "       [45.61864377],\n",
              "       [38.81681754],\n",
              "       [66.18981661],\n",
              "       [65.41605175],\n",
              "       [47.48120861],\n",
              "       [41.57564262],\n",
              "       [51.84518691],\n",
              "       [59.37082201],\n",
              "       [57.31000344],\n",
              "       [63.61556125],\n",
              "       [46.73761941],\n",
              "       [50.55676015],\n",
              "       [52.22399609],\n",
              "       [35.56783005],\n",
              "       [42.43647694],\n",
              "       [58.16454011],\n",
              "       [57.50444762],\n",
              "       [45.44053073],\n",
              "       [61.89622268],\n",
              "       [33.09383174],\n",
              "       [36.43600951],\n",
              "       [37.67565486],\n",
              "       [44.55560838],\n",
              "       [43.31828263],\n",
              "       [50.07314563],\n",
              "       [43.87061265],\n",
              "       [62.99748075],\n",
              "       [32.66904376],\n",
              "       [40.16689901],\n",
              "       [53.57507753],\n",
              "       [33.86421497],\n",
              "       [64.70713867],\n",
              "       [38.11982403],\n",
              "       [44.50253806],\n",
              "       [40.59953838],\n",
              "       [41.72067636],\n",
              "       [51.08863468],\n",
              "       [55.0780959 ],\n",
              "       [41.37772653],\n",
              "       [62.49469743],\n",
              "       [49.20388754],\n",
              "       [41.10268519],\n",
              "       [41.18201611],\n",
              "       [50.18638949],\n",
              "       [52.37844622],\n",
              "       [50.13548549],\n",
              "       [33.64470601],\n",
              "       [39.55790122],\n",
              "       [56.13038882],\n",
              "       [57.36205213],\n",
              "       [60.26921439],\n",
              "       [35.67809389],\n",
              "       [31.588117  ],\n",
              "       [53.66093226],\n",
              "       [46.68222865],\n",
              "       [43.10782022],\n",
              "       [70.34607562],\n",
              "       [44.49285588],\n",
              "       [57.5045333 ],\n",
              "       [36.93007661],\n",
              "       [55.80573336],\n",
              "       [38.95476907],\n",
              "       [56.9012147 ],\n",
              "       [56.86890066],\n",
              "       [34.3331247 ],\n",
              "       [59.04974121],\n",
              "       [57.78822399],\n",
              "       [54.28232871],\n",
              "       [51.0887199 ],\n",
              "       [50.28283635],\n",
              "       [44.21174175],\n",
              "       [38.00548801],\n",
              "       [32.94047994],\n",
              "       [53.69163957],\n",
              "       [68.76573427],\n",
              "       [46.2309665 ],\n",
              "       [68.31936082],\n",
              "       [50.03017434],\n",
              "       [49.23976534],\n",
              "       [50.03957594],\n",
              "       [48.14985889],\n",
              "       [25.12848465]])"
            ]
          },
          "metadata": {},
          "execution_count": 8
        }
      ]
    },
    {
      "cell_type": "markdown",
      "source": [
        "Reshape: numpy.reshape(a, newshape, order='C')\n",
        "One shape dimension can be -1. In this case, the value is inferred from the length of the array and remaining dimensions"
      ],
      "metadata": {
        "id": "sMR_YawuWtd7"
      }
    },
    {
      "cell_type": "code",
      "source": [
        "Y = data.iloc[:, 1].values.reshape(-1, 1)  # -1 means that calculate the dimension of rows, but have 1 column\n",
        "Y"
      ],
      "metadata": {
        "colab": {
          "base_uri": "https://localhost:8080/"
        },
        "id": "htQvZvx8V2Mj",
        "outputId": "3a29fd9e-b9a7-4a00-cbd4-1731b1931ee5"
      },
      "execution_count": null,
      "outputs": [
        {
          "output_type": "execute_result",
          "data": {
            "text/plain": [
              "array([[ 31.70700585],\n",
              "       [ 68.77759598],\n",
              "       [ 62.5623823 ],\n",
              "       [ 71.54663223],\n",
              "       [ 87.23092513],\n",
              "       [ 78.21151827],\n",
              "       [ 79.64197305],\n",
              "       [ 59.17148932],\n",
              "       [ 75.3312423 ],\n",
              "       [ 71.30087989],\n",
              "       [ 55.16567715],\n",
              "       [ 82.47884676],\n",
              "       [ 62.00892325],\n",
              "       [ 75.39287043],\n",
              "       [ 81.43619216],\n",
              "       [ 60.72360244],\n",
              "       [ 82.89250373],\n",
              "       [ 97.37989686],\n",
              "       [ 48.84715332],\n",
              "       [ 56.87721319],\n",
              "       [ 83.87856466],\n",
              "       [118.5912173 ],\n",
              "       [ 57.25181946],\n",
              "       [ 51.39174408],\n",
              "       [ 75.38065167],\n",
              "       [ 74.76556403],\n",
              "       [ 95.45505292],\n",
              "       [ 95.22936602],\n",
              "       [ 79.05240617],\n",
              "       [ 83.43207142],\n",
              "       [ 63.35879032],\n",
              "       [ 41.4128853 ],\n",
              "       [ 76.61734128],\n",
              "       [ 96.76956643],\n",
              "       [ 74.08413012],\n",
              "       [ 66.58814441],\n",
              "       [ 77.76848242],\n",
              "       [ 50.71958891],\n",
              "       [ 62.12457082],\n",
              "       [ 60.81024665],\n",
              "       [ 52.68298337],\n",
              "       [ 58.56982472],\n",
              "       [ 82.90598149],\n",
              "       [ 61.4247098 ],\n",
              "       [115.2441528 ],\n",
              "       [ 45.57058882],\n",
              "       [ 54.0840548 ],\n",
              "       [ 87.99445276],\n",
              "       [ 52.72549438],\n",
              "       [ 93.57611869],\n",
              "       [ 80.16627545],\n",
              "       [ 65.10171157],\n",
              "       [ 65.56230126],\n",
              "       [ 65.28088692],\n",
              "       [ 73.43464155],\n",
              "       [ 71.13972786],\n",
              "       [ 79.10282968],\n",
              "       [ 86.52053844],\n",
              "       [ 84.74269781],\n",
              "       [ 59.35885025],\n",
              "       [ 61.68403752],\n",
              "       [ 69.84760416],\n",
              "       [ 86.09829121],\n",
              "       [ 59.10883927],\n",
              "       [ 69.89968164],\n",
              "       [ 44.86249071],\n",
              "       [ 85.49806778],\n",
              "       [ 95.53668685],\n",
              "       [ 70.25193442],\n",
              "       [ 52.72173496],\n",
              "       [ 50.39267014],\n",
              "       [ 63.64239878],\n",
              "       [ 72.24725107],\n",
              "       [ 57.81251298],\n",
              "       [104.25710159],\n",
              "       [ 86.64202032],\n",
              "       [ 91.486778  ],\n",
              "       [ 55.23166089],\n",
              "       [ 79.55043668],\n",
              "       [ 44.84712424],\n",
              "       [ 80.20752314],\n",
              "       [ 83.14274979],\n",
              "       [ 55.72348926],\n",
              "       [ 77.63418251],\n",
              "       [ 99.05141484],\n",
              "       [ 79.12064627],\n",
              "       [ 69.58889785],\n",
              "       [ 69.51050331],\n",
              "       [ 73.68756432],\n",
              "       [ 61.36690454],\n",
              "       [ 67.17065577],\n",
              "       [ 85.66820315],\n",
              "       [114.85387123],\n",
              "       [ 90.12357207],\n",
              "       [ 97.91982104],\n",
              "       [ 81.53699078],\n",
              "       [ 72.11183247],\n",
              "       [ 85.23200734],\n",
              "       [ 66.22495789],\n",
              "       [ 53.45439421]])"
            ]
          },
          "metadata": {},
          "execution_count": 10
        }
      ]
    },
    {
      "cell_type": "code",
      "source": [
        "linear_regressor = LinearRegression()  # create object for the class\n",
        "linear_regressor.fit(X, Y)  # perform linear regression\n",
        "Y_pred = linear_regressor.predict(X)  # make predictions\n"
      ],
      "metadata": {
        "id": "C2vz8mkQWpO9"
      },
      "execution_count": null,
      "outputs": []
    },
    {
      "cell_type": "markdown",
      "source": [
        "We have our predictions in Y_pred. Now lets visualize the data set and the regression line"
      ],
      "metadata": {
        "id": "15XMIvMmXKhe"
      }
    },
    {
      "cell_type": "code",
      "source": [
        "plt.scatter(X, Y)\n",
        "plt.plot(X, Y_pred, color='red')\n",
        "plt.show()"
      ],
      "metadata": {
        "colab": {
          "base_uri": "https://localhost:8080/",
          "height": 265
        },
        "id": "iZPcbROiXJZ3",
        "outputId": "bed90045-69fc-43f9-b7a1-810fa0d19b01"
      },
      "execution_count": null,
      "outputs": [
        {
          "output_type": "display_data",
          "data": {
            "text/plain": [
              "<Figure size 432x288 with 1 Axes>"
            ],
            "image/png": "[encoded data removed]"
          },
          "metadata": {
            "needs_background": "light"
          }
        }
      ]
    },
    {
      "cell_type": "markdown",
      "source": [
        "LinearRegression class in sklearn.linear_model. Also this class uses the ordinary Least Squares method to perform this regression"
      ],
      "metadata": {
        "id": "X3kQRP8xXgVo"
      }
    },
    {
      "cell_type": "code",
      "source": [
        "\n"
      ],
      "metadata": {
        "id": "ENJvMJWCXeL-"
      },
      "execution_count": null,
      "outputs": []
    }
  ]
}