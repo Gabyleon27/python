{
  "nbformat": 4,
  "nbformat_minor": 0,
  "metadata": {
    "colab": {
      "provenance": []
    },
    "kernelspec": {
      "name": "python3",
      "display_name": "Python 3"
    },
    "language_info": {
      "name": "python"
    }
  },
  "cells": [
    {
      "cell_type": "code",
      "source": [
        "import numpy as np\n",
        "import scipy as sp\n",
        "import pandas as pd\n",
        "import matplotlib.pyplot as plt\n",
        "import seaborn as sns\n",
        "import statsmodels.api as sm\n",
        "\n"
      ],
      "metadata": {
        "id": "yLXrTEV4gMIx"
      },
      "execution_count": null,
      "outputs": []
    },
    {
      "cell_type": "markdown",
      "source": [
        "# Question 1"
      ],
      "metadata": {
        "id": "gZ0cg4KLiYjz"
      }
    },
    {
      "cell_type": "code",
      "source": [
        "df = pd.read_csv(\"normality.csv\", sep =',')\n",
        "df.shape"
      ],
      "metadata": {
        "colab": {
          "base_uri": "https://localhost:8080/"
        },
        "id": "WXpzZ_mJgQTX",
        "outputId": "f9c013d3-d765-4aff-cdfb-2786cab45dd9"
      },
      "execution_count": null,
      "outputs": [
        {
          "output_type": "execute_result",
          "data": {
            "text/plain": [
              "(179, 1)"
            ]
          },
          "metadata": {},
          "execution_count": 91
        }
      ]
    },
    {
      "cell_type": "markdown",
      "source": [
        "**a. Identify the minimum, maximum, mean, and median of the distribution. Based on the\n",
        "mean and median, do you think the distribution is skewed? If so, in which direction?**"
      ],
      "metadata": {
        "id": "F-0BxfcTihkf"
      }
    },
    {
      "cell_type": "code",
      "source": [
        "df.min()"
      ],
      "metadata": {
        "colab": {
          "base_uri": "https://localhost:8080/"
        },
        "id": "pZkXcuWNluDl",
        "outputId": "e0ef9faf-8c60-425c-996a-f8568e8aa46e"
      },
      "execution_count": null,
      "outputs": [
        {
          "output_type": "execute_result",
          "data": {
            "text/plain": [
              "Value    47.95\n",
              "dtype: float64"
            ]
          },
          "metadata": {},
          "execution_count": 6
        }
      ]
    },
    {
      "cell_type": "code",
      "source": [
        "df.max()"
      ],
      "metadata": {
        "colab": {
          "base_uri": "https://localhost:8080/"
        },
        "id": "lP65tWZWmiBe",
        "outputId": "f04fe881-a899-41dc-818e-975250ceebd6"
      },
      "execution_count": null,
      "outputs": [
        {
          "output_type": "execute_result",
          "data": {
            "text/plain": [
              "Value    100.07\n",
              "dtype: float64"
            ]
          },
          "metadata": {},
          "execution_count": 7
        }
      ]
    },
    {
      "cell_type": "code",
      "source": [
        "df.mean()"
      ],
      "metadata": {
        "colab": {
          "base_uri": "https://localhost:8080/"
        },
        "id": "QYz1nz9CmmG1",
        "outputId": "bc920198-f90b-4dd6-d52b-a36da60dacb6"
      },
      "execution_count": null,
      "outputs": [
        {
          "output_type": "execute_result",
          "data": {
            "text/plain": [
              "Value    87.091453\n",
              "dtype: float64"
            ]
          },
          "metadata": {},
          "execution_count": 8
        }
      ]
    },
    {
      "cell_type": "code",
      "source": [
        "df.median()"
      ],
      "metadata": {
        "colab": {
          "base_uri": "https://localhost:8080/"
        },
        "id": "C2A0yUGGmqfr",
        "outputId": "c954a39a-df04-43f6-8f88-ecbe06188f39"
      },
      "execution_count": null,
      "outputs": [
        {
          "output_type": "execute_result",
          "data": {
            "text/plain": [
              "Value    87.92\n",
              "dtype: float64"
            ]
          },
          "metadata": {},
          "execution_count": 9
        }
      ]
    },
    {
      "cell_type": "markdown",
      "source": [
        "The median is a little more bigger than the mean 87.99 > 87.09 ,  in that case I could say the data are skewed and the distribution has a positively skewed"
      ],
      "metadata": {
        "id": "MakVSPl_oOhJ"
      }
    },
    {
      "cell_type": "markdown",
      "source": [
        "**b. Calculate the skewness and kurtosis for the distribution, and interpret the values. What\n",
        "does this mean for the probability distribution**"
      ],
      "metadata": {
        "id": "m68D9H69oQ2A"
      }
    },
    {
      "cell_type": "code",
      "source": [
        "df.skew()"
      ],
      "metadata": {
        "colab": {
          "base_uri": "https://localhost:8080/"
        },
        "id": "FMlGfJJmp18s",
        "outputId": "7273b0ac-03e9-41e8-c795-f217dbacfdab"
      },
      "execution_count": null,
      "outputs": [
        {
          "output_type": "execute_result",
          "data": {
            "text/plain": [
              "Value   -1.675101\n",
              "dtype: float64"
            ]
          },
          "metadata": {},
          "execution_count": 11
        }
      ]
    },
    {
      "cell_type": "code",
      "source": [
        "df.kurtosis()"
      ],
      "metadata": {
        "colab": {
          "base_uri": "https://localhost:8080/"
        },
        "id": "zgS24_glp7r0",
        "outputId": "bfe20039-58d4-4b92-e047-aeedd7856fd0"
      },
      "execution_count": null,
      "outputs": [
        {
          "output_type": "execute_result",
          "data": {
            "text/plain": [
              "Value    5.094716\n",
              "dtype: float64"
            ]
          },
          "metadata": {},
          "execution_count": 12
        }
      ]
    },
    {
      "cell_type": "markdown",
      "source": [
        "A positive kurtosis indicates that the data shows more extreme outliers than a normal distribution, in this case is a leptokurtic distribution. \n",
        "The negative value of the skwed refer a positively skewed"
      ],
      "metadata": {
        "id": "Yh6G3JwgtH2-"
      }
    },
    {
      "cell_type": "markdown",
      "source": [
        "**c. Create a histogram and boxplot of the data. Describe the distribution based on these\n",
        "plots (make sure to comment on each plot!)**"
      ],
      "metadata": {
        "id": "dCptiGLjuR3_"
      }
    },
    {
      "cell_type": "code",
      "source": [
        "df.hist()"
      ],
      "metadata": {
        "colab": {
          "base_uri": "https://localhost:8080/",
          "height": 316
        },
        "id": "0HRtbHo4udKV",
        "outputId": "778f8de6-0405-4e9e-dfde-98a4994a1fdb"
      },
      "execution_count": null,
      "outputs": [
        {
          "output_type": "execute_result",
          "data": {
            "text/plain": [
              "array([[<matplotlib.axes._subplots.AxesSubplot object at 0x7f6a0dadc650>]],\n",
              "      dtype=object)"
            ]
          },
          "metadata": {},
          "execution_count": 13
        },
        {
          "output_type": "display_data",
          "data": {
            "text/plain": [
              "<Figure size 432x288 with 1 Axes>"
            ],
            "image/png": "[encoded data removed]"
          },
          "metadata": {
            "needs_background": "light"
          }
        }
      ]
    },
    {
      "cell_type": "markdown",
      "source": [
        "In this Histogram we can see the median is bigger than the mean, and the positiviley skewed distribution. The are a lot of data bigger than the mean, maybe we can find a lots of outliers. "
      ],
      "metadata": {
        "id": "QllBiuBpva66"
      }
    },
    {
      "cell_type": "code",
      "source": [
        "df.boxplot()"
      ],
      "metadata": {
        "colab": {
          "base_uri": "https://localhost:8080/",
          "height": 282
        },
        "id": "xwnkne0YvsHW",
        "outputId": "238c2c9c-5a6a-4ea4-eede-53fe4ab7a053"
      },
      "execution_count": null,
      "outputs": [
        {
          "output_type": "execute_result",
          "data": {
            "text/plain": [
              "<matplotlib.axes._subplots.AxesSubplot at 0x7f6a0d03c390>"
            ]
          },
          "metadata": {},
          "execution_count": 16
        },
        {
          "output_type": "display_data",
          "data": {
            "text/plain": [
              "<Figure size 432x288 with 1 Axes>"
            ],
            "image/png": "[encoded data removed]"
          },
          "metadata": {
            "needs_background": "light"
          }
        }
      ]
    },
    {
      "cell_type": "markdown",
      "source": [
        "There is 7 outliers below the lower whisker.  "
      ],
      "metadata": {
        "id": "Qk5rf_0xwh8P"
      }
    },
    {
      "cell_type": "markdown",
      "source": [
        "**d. Create a QQ-plot for the data with a line that can be used to assess normality. Interpret\n",
        "the plot**"
      ],
      "metadata": {
        "id": "xCypPCrhxJL-"
      }
    },
    {
      "cell_type": "code",
      "source": [
        "sm.qqplot(df, line='45')\n",
        "plt.show()"
      ],
      "metadata": {
        "colab": {
          "base_uri": "https://localhost:8080/",
          "height": 279
        },
        "id": "EY_yINotut__",
        "outputId": "078a221a-8ee2-4880-8a93-353175aff808"
      },
      "execution_count": null,
      "outputs": [
        {
          "output_type": "display_data",
          "data": {
            "text/plain": [
              "<Figure size 432x288 with 1 Axes>"
            ],
            "image/png": "[encoded data removed]"
          },
          "metadata": {
            "needs_background": "light"
          }
        }
      ]
    },
    {
      "cell_type": "markdown",
      "source": [
        "As the data is not normally distributed, the points in the  Q-Q plot do not liying on a straight diagonal line."
      ],
      "metadata": {
        "id": "hUwalr-qzfpC"
      }
    },
    {
      "cell_type": "markdown",
      "source": [
        "**e. Use the Shapiro-Wilk test to determine if the data is normally distributed at α = 0.05\n",
        "level. Give the results of the test and your interpretation.**"
      ],
      "metadata": {
        "id": "yW_s4pQF0O7K"
      }
    },
    {
      "cell_type": "code",
      "source": [
        "from scipy.stats.morestats import shapiro\n",
        "shapiro(df)"
      ],
      "metadata": {
        "colab": {
          "base_uri": "https://localhost:8080/"
        },
        "id": "oYM4W5xe0Onz",
        "outputId": "9a84c5d7-595a-4040-fd2a-aa0018da808d"
      },
      "execution_count": null,
      "outputs": [
        {
          "output_type": "execute_result",
          "data": {
            "text/plain": [
              "ShapiroResult(statistic=0.8851756453514099, pvalue=1.7013100650498103e-10)"
            ]
          },
          "metadata": {},
          "execution_count": 22
        }
      ]
    },
    {
      "cell_type": "markdown",
      "source": [
        "The p-value is 1.70e-10  which is less than Alpha(0.5) then we do not have \n",
        "sufficient evidence to say that the values come from a normal distribution."
      ],
      "metadata": {
        "id": "qb6_lnjS0sr5"
      }
    },
    {
      "cell_type": "code",
      "source": [],
      "metadata": {
        "id": "bVRBg_Xi1e6d"
      },
      "execution_count": null,
      "outputs": []
    },
    {
      "cell_type": "markdown",
      "source": [
        "# Question 2"
      ],
      "metadata": {
        "id": "wedCFwYP3cvG"
      }
    },
    {
      "cell_type": "markdown",
      "source": [
        "**a.Calculate the skewness of each column of data in the array data set. Determine the\n",
        "maximum and minimum skewness values. Which column of data is the most positively\n",
        "skewed? Which is the most negatively skewed?**"
      ],
      "metadata": {
        "id": "uusDs4nA-iLx"
      }
    },
    {
      "cell_type": "code",
      "source": [
        "df2 = pd.read_csv(\"Array.csv\", sep =',')\n",
        "df2.shape\n"
      ],
      "metadata": {
        "colab": {
          "base_uri": "https://localhost:8080/"
        },
        "id": "f6kD71g53fua",
        "outputId": "9765063c-f362-4add-f99c-8a1046820277"
      },
      "execution_count": null,
      "outputs": [
        {
          "output_type": "execute_result",
          "data": {
            "text/plain": [
              "(100, 100)"
            ]
          },
          "metadata": {},
          "execution_count": 92
        }
      ]
    },
    {
      "cell_type": "code",
      "source": [
        "skew = df2.skew()\n",
        "print(skew)"
      ],
      "metadata": {
        "colab": {
          "base_uri": "https://localhost:8080/"
        },
        "id": "HKBOpFziEE8S",
        "outputId": "74a1f0ab-e7d0-438d-bbc3-534d115751d9"
      },
      "execution_count": null,
      "outputs": [
        {
          "output_type": "stream",
          "name": "stdout",
          "text": [
            "X1      0.198679\n",
            "X2      0.060230\n",
            "X3      0.180204\n",
            "X4     -0.264105\n",
            "X5      0.329228\n",
            "          ...   \n",
            "X96     0.029576\n",
            "X97     0.273927\n",
            "X98     0.177329\n",
            "X99     0.106677\n",
            "X100    0.325687\n",
            "Length: 100, dtype: float64\n"
          ]
        }
      ]
    },
    {
      "cell_type": "code",
      "source": [
        "min = skew.min()\n",
        "print(min)"
      ],
      "metadata": {
        "colab": {
          "base_uri": "https://localhost:8080/"
        },
        "id": "Q5Z9r3eGEZBn",
        "outputId": "9788bc8e-fa0d-4ec1-b0b0-b3187d122599"
      },
      "execution_count": null,
      "outputs": [
        {
          "output_type": "stream",
          "name": "stdout",
          "text": [
            "-0.40928941970305627\n"
          ]
        }
      ]
    },
    {
      "cell_type": "code",
      "source": [
        "max = skew.max()\n",
        "print(max)"
      ],
      "metadata": {
        "colab": {
          "base_uri": "https://localhost:8080/"
        },
        "id": "frtt7Y5uEc-S",
        "outputId": "17aae1ec-906f-475d-95d1-8fc86bb793ad"
      },
      "execution_count": null,
      "outputs": [
        {
          "output_type": "stream",
          "name": "stdout",
          "text": [
            "0.534511258246221\n"
          ]
        }
      ]
    },
    {
      "cell_type": "code",
      "source": [
        "for value in skew:\n",
        "  if value == min:\n",
        "    "
      ],
      "metadata": {
        "id": "8irlHrEVJAz8"
      },
      "execution_count": null,
      "outputs": []
    },
    {
      "cell_type": "markdown",
      "source": [
        "The min skew is -0.40 is in the X60 column, and the max value is 0.5345 is in the x34 column"
      ],
      "metadata": {
        "id": "meB38Pd1E9ML"
      }
    },
    {
      "cell_type": "markdown",
      "source": [
        "**b. Suppose we want to identify which columns are highly skewed so they can be removed\n",
        "from the array. Use python to give a list of all columns in which the absolute magnitude\n",
        "of the skew is greater than or equal to 0.3. How many columns meet this condition?**"
      ],
      "metadata": {
        "id": "q_oUkHlFFchd"
      }
    },
    {
      "cell_type": "code",
      "source": [
        "major = []\n",
        "for value in skew:\n",
        "  if value >= 0.3:\n",
        "    major.append(value)\n",
        "print(major)\n",
        "    \n"
      ],
      "metadata": {
        "colab": {
          "base_uri": "https://localhost:8080/"
        },
        "id": "KA0csKpyGYw8",
        "outputId": "ced4bec1-dd1f-4389-b661-f08d575f573b"
      },
      "execution_count": null,
      "outputs": [
        {
          "output_type": "stream",
          "name": "stdout",
          "text": [
            "[0.32922786380206565, 0.3982515562547846, 0.3941934181195233, 0.312256624917321, 0.35622562526253176, 0.4825653679755231, 0.534511258246221, 0.329293268835583, 0.39106988798630354, 0.35705810557443624, 0.3181172343197871, 0.3256871048223763]\n"
          ]
        }
      ]
    },
    {
      "cell_type": "code",
      "source": [
        "lenght = len(major)\n",
        "print(lenght)"
      ],
      "metadata": {
        "colab": {
          "base_uri": "https://localhost:8080/"
        },
        "id": "szzuYlalLlLb",
        "outputId": "35fb48c5-2012-4c67-a949-7ae7ea3647d1"
      },
      "execution_count": null,
      "outputs": [
        {
          "output_type": "stream",
          "name": "stdout",
          "text": [
            "12\n"
          ]
        }
      ]
    },
    {
      "cell_type": "markdown",
      "source": [
        "12 columns meet the condition"
      ],
      "metadata": {
        "id": "qVHX8LPWL22m"
      }
    },
    {
      "cell_type": "markdown",
      "source": [
        "**c. Create a subset of the data that only contains the normal columns (with skew less than\n",
        "0.30)**"
      ],
      "metadata": {
        "id": "usznAtsUOOHz"
      }
    },
    {
      "cell_type": "code",
      "source": [
        "dfcopy = df.copy()\n",
        "dfnew= dfcopy.drop(columns =['X14','X83','X100','X5','X55','X27','X72','X67','X9','X6','X31','X34'])\n",
        "\n",
        "dfnew.shape"
      ],
      "metadata": {
        "colab": {
          "base_uri": "https://localhost:8080/"
        },
        "id": "4-WxqvO3QGaY",
        "outputId": "686d94c1-411e-4d2e-ab70-4ac1bfde332c"
      },
      "execution_count": null,
      "outputs": [
        {
          "output_type": "execute_result",
          "data": {
            "text/plain": [
              "(100, 88)"
            ]
          },
          "metadata": {},
          "execution_count": 90
        }
      ]
    },
    {
      "cell_type": "markdown",
      "source": [
        "**e. Find the column that is closest to represent a normal distribution, plot the data and\n",
        "describe why this is the case.**"
      ],
      "metadata": {
        "id": "Y-CgMDIBPyor"
      }
    },
    {
      "cell_type": "code",
      "source": [
        "skew2 = dfnew.skew()"
      ],
      "metadata": {
        "id": "EhUTxEOMTsyo"
      },
      "execution_count": null,
      "outputs": []
    },
    {
      "cell_type": "code",
      "source": [
        "closest = []\n",
        "for value in skew2:\n",
        "  if value <0.05 >-0.05:\n",
        "    closest.append(value)\n",
        "    \n",
        "\n",
        "print(closest)"
      ],
      "metadata": {
        "colab": {
          "base_uri": "https://localhost:8080/"
        },
        "id": "Qspbp4zLRxDK",
        "outputId": "8582885d-838b-422a-f044-613c86886760"
      },
      "execution_count": null,
      "outputs": [
        {
          "output_type": "stream",
          "name": "stdout",
          "text": [
            "[-0.2641052004882449, -0.1020253580812731, -0.09681571500574888, 0.027108889967750342, -0.022904917953427147, -0.14133795268783725, 0.029671101999241386, -0.11299421816982484, -0.3847203240024599, -0.18297977758631012, -0.2840340171039376, -0.08104014925504582, -0.25016435609961996, -0.15370649562396757, -0.1920974462662382, -0.3659847036239902, -0.25161442381565674, -0.21108482367047413, -0.22840677733314582, 0.004198573126058152, 0.03266975321080616, -0.028925597437967684, -0.2308275997225692, -0.2609562356740032, 0.027321226236931572, -0.14196219463037069, -0.11744567979445396, -0.11682519148380262, -0.40928941970305627, -0.08187689151407493, -0.14492098080243865, -0.12011440296522725, -0.3467536442434977, -0.24371535008898876, -0.10553047197360398, 0.005103650755565932, -0.22559344783390956, -0.05973176646900273, 0.002128136110185076, -0.16772393431391827, 0.018086384149559848, -0.26930392294566186, -0.019864369732497365, -0.34186002627959905, -0.14033018651568874, -0.08783573561492171, 0.04988932197126039, -0.169403055942816, -0.0843069408083695, -0.3315658488911735, -0.1841870496070647, 0.029576484214350763]\n"
          ]
        }
      ]
    },
    {
      "cell_type": "markdown",
      "source": [
        "The column that is closest to representing a normal distribution is the column that has a value equal to or close to zero.\n",
        "That column is the X76.\n",
        "I first identified the values ​​oscillating between 0.05 and then found the closest value close to zero"
      ],
      "metadata": {
        "id": "bBNoU-xOUvCL"
      }
    },
    {
      "cell_type": "code",
      "source": [
        "!pip install nbconvert\n",
        "!jupyter nbconvert --to html /content/A00239383_Leon.ipynb"
      ],
      "metadata": {
        "colab": {
          "base_uri": "https://localhost:8080/"
        },
        "id": "354SV18YWY5U",
        "outputId": "b77144c2-3a70-4792-f523-f7f7a29d89f0"
      },
      "execution_count": null,
      "outputs": [
        {
          "output_type": "stream",
          "name": "stdout",
          "text": [
            "Looking in indexes: https://pypi.org/simple, https://us-python.pkg.dev/colab-wheels/public/simple/\n",
            "Requirement already satisfied: nbconvert in /usr/local/lib/python3.7/dist-packages (5.6.1)\n",
            "Requirement already satisfied: jinja2>=2.4 in /usr/local/lib/python3.7/dist-packages (from nbconvert) (2.11.3)\n",
            "Requirement already satisfied: traitlets>=4.2 in /usr/local/lib/python3.7/dist-packages (from nbconvert) (5.1.1)\n",
            "Requirement already satisfied: bleach in /usr/local/lib/python3.7/dist-packages (from nbconvert) (5.0.1)\n",
            "Requirement already satisfied: pandocfilters>=1.4.1 in /usr/local/lib/python3.7/dist-packages (from nbconvert) (1.5.0)\n",
            "Requirement already satisfied: pygments in /usr/local/lib/python3.7/dist-packages (from nbconvert) (2.6.1)\n",
            "Requirement already satisfied: mistune<2,>=0.8.1 in /usr/local/lib/python3.7/dist-packages (from nbconvert) (0.8.4)\n",
            "Requirement already satisfied: jupyter-core in /usr/local/lib/python3.7/dist-packages (from nbconvert) (4.11.1)\n",
            "Requirement already satisfied: defusedxml in /usr/local/lib/python3.7/dist-packages (from nbconvert) (0.7.1)\n",
            "Requirement already satisfied: nbformat>=4.4 in /usr/local/lib/python3.7/dist-packages (from nbconvert) (5.4.0)\n",
            "Requirement already satisfied: testpath in /usr/local/lib/python3.7/dist-packages (from nbconvert) (0.6.0)\n",
            "Requirement already satisfied: entrypoints>=0.2.2 in /usr/local/lib/python3.7/dist-packages (from nbconvert) (0.4)\n",
            "Requirement already satisfied: MarkupSafe>=0.23 in /usr/local/lib/python3.7/dist-packages (from jinja2>=2.4->nbconvert) (2.0.1)\n",
            "Requirement already satisfied: fastjsonschema in /usr/local/lib/python3.7/dist-packages (from nbformat>=4.4->nbconvert) (2.16.1)\n",
            "Requirement already satisfied: jsonschema>=2.6 in /usr/local/lib/python3.7/dist-packages (from nbformat>=4.4->nbconvert) (4.3.3)\n",
            "Requirement already satisfied: importlib-metadata in /usr/local/lib/python3.7/dist-packages (from jsonschema>=2.6->nbformat>=4.4->nbconvert) (4.12.0)\n",
            "Requirement already satisfied: typing-extensions in /usr/local/lib/python3.7/dist-packages (from jsonschema>=2.6->nbformat>=4.4->nbconvert) (4.1.1)\n",
            "Requirement already satisfied: importlib-resources>=1.4.0 in /usr/local/lib/python3.7/dist-packages (from jsonschema>=2.6->nbformat>=4.4->nbconvert) (5.9.0)\n",
            "Requirement already satisfied: pyrsistent!=0.17.0,!=0.17.1,!=0.17.2,>=0.14.0 in /usr/local/lib/python3.7/dist-packages (from jsonschema>=2.6->nbformat>=4.4->nbconvert) (0.18.1)\n",
            "Requirement already satisfied: attrs>=17.4.0 in /usr/local/lib/python3.7/dist-packages (from jsonschema>=2.6->nbformat>=4.4->nbconvert) (22.1.0)\n",
            "Requirement already satisfied: zipp>=3.1.0 in /usr/local/lib/python3.7/dist-packages (from importlib-resources>=1.4.0->jsonschema>=2.6->nbformat>=4.4->nbconvert) (3.8.1)\n",
            "Requirement already satisfied: webencodings in /usr/local/lib/python3.7/dist-packages (from bleach->nbconvert) (0.5.1)\n",
            "Requirement already satisfied: six>=1.9.0 in /usr/local/lib/python3.7/dist-packages (from bleach->nbconvert) (1.15.0)\n",
            "[NbConvertApp] Converting notebook /content/A00239383_Leon.ipynb to html\n",
            "[NbConvertApp] Writing 327821 bytes to /content/A00239383_Leon.html\n"
          ]
        }
      ]
    }
  ]
}