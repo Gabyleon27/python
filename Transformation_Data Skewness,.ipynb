{
  "nbformat": 4,
  "nbformat_minor": 0,
  "metadata": {
    "colab": {
      "provenance": []
    },
    "kernelspec": {
      "name": "python3",
      "display_name": "Python 3"
    },
    "language_info": {
      "name": "python"
    }
  },
  "cells": [
    {
      "cell_type": "code",
      "execution_count": null,
      "metadata": {
        "id": "SCIONsc8V5QQ"
      },
      "outputs": [],
      "source": [
        "import pandas as pd\n",
        "import numpy as np\n"
      ]
    },
    {
      "cell_type": "code",
      "source": [
        "df=pd.read_csv('Transformation.txt',sep=',')"
      ],
      "metadata": {
        "id": "ILcGcCG6WQvo"
      },
      "execution_count": null,
      "outputs": []
    },
    {
      "cell_type": "code",
      "source": [
        "df.head()"
      ],
      "metadata": {
        "colab": {
          "base_uri": "https://localhost:8080/",
          "height": 206
        },
        "id": "_WP3O5IsWqcg",
        "outputId": "c535d625-3c82-472f-e8ec-1c73a7601e0e"
      },
      "execution_count": null,
      "outputs": [
        {
          "output_type": "execute_result",
          "data": {
            "text/plain": [
              "   Moderate Positive Skew  Highly Positive Skew  Moderate Negative Skew  \\\n",
              "0                0.899990              2.895074               11.180748   \n",
              "1                1.113554              2.962385               10.842938   \n",
              "2                1.156830              2.966378               10.817934   \n",
              "3                1.264131              3.000324               10.764570   \n",
              "4                1.323914              3.012109               10.753117   \n",
              "\n",
              "   Highly Negative Skew  \n",
              "0              9.027485  \n",
              "1              9.009762  \n",
              "2              9.006134  \n",
              "3              9.000125  \n",
              "4              8.981296  "
            ],
            "text/html": [
              "\n",
              "  <div id=\"df-37613aa2-d3c5-4be1-8dfd-8ee2758e1678\">\n",
              "    <div class=\"colab-df-container\">\n",
              "      <div>\n",
              "<style scoped>\n",
              "    .dataframe tbody tr th:only-of-type {\n",
              "        vertical-align: middle;\n",
              "    }\n",
              "\n",
              "    .dataframe tbody tr th {\n",
              "        vertical-align: top;\n",
              "    }\n",
              "\n",
              "    .dataframe thead th {\n",
              "        text-align: right;\n",
              "    }\n",
              "</style>\n",
              "<table border=\"1\" class=\"dataframe\">\n",
              "  <thead>\n",
              "    <tr style=\"text-align: right;\">\n",
              "      <th></th>\n",
              "      <th>Moderate Positive Skew</th>\n",
              "      <th>Highly Positive Skew</th>\n",
              "      <th>Moderate Negative Skew</th>\n",
              "      <th>Highly Negative Skew</th>\n",
              "    </tr>\n",
              "  </thead>\n",
              "  <tbody>\n",
              "    <tr>\n",
              "      <th>0</th>\n",
              "      <td>0.899990</td>\n",
              "      <td>2.895074</td>\n",
              "      <td>11.180748</td>\n",
              "      <td>9.027485</td>\n",
              "    </tr>\n",
              "    <tr>\n",
              "      <th>1</th>\n",
              "      <td>1.113554</td>\n",
              "      <td>2.962385</td>\n",
              "      <td>10.842938</td>\n",
              "      <td>9.009762</td>\n",
              "    </tr>\n",
              "    <tr>\n",
              "      <th>2</th>\n",
              "      <td>1.156830</td>\n",
              "      <td>2.966378</td>\n",
              "      <td>10.817934</td>\n",
              "      <td>9.006134</td>\n",
              "    </tr>\n",
              "    <tr>\n",
              "      <th>3</th>\n",
              "      <td>1.264131</td>\n",
              "      <td>3.000324</td>\n",
              "      <td>10.764570</td>\n",
              "      <td>9.000125</td>\n",
              "    </tr>\n",
              "    <tr>\n",
              "      <th>4</th>\n",
              "      <td>1.323914</td>\n",
              "      <td>3.012109</td>\n",
              "      <td>10.753117</td>\n",
              "      <td>8.981296</td>\n",
              "    </tr>\n",
              "  </tbody>\n",
              "</table>\n",
              "</div>\n",
              "      <button class=\"colab-df-convert\" onclick=\"convertToInteractive('df-37613aa2-d3c5-4be1-8dfd-8ee2758e1678')\"\n",
              "              title=\"Convert this dataframe to an interactive table.\"\n",
              "              style=\"display:none;\">\n",
              "        \n",
              "  <svg xmlns=\"http://www.w3.org/2000/svg\" height=\"24px\"viewBox=\"0 0 24 24\"\n",
              "       width=\"24px\">\n",
              "    <path d=\"M0 0h24v24H0V0z\" fill=\"none\"/>\n",
              "    <path d=\"M18.56 5.44l.94 2.06.94-2.06 2.06-.94-2.06-.94-.94-2.06-.94 2.06-2.06.94zm-11 1L8.5 8.5l.94-2.06 2.06-.94-2.06-.94L8.5 2.5l-.94 2.06-2.06.94zm10 10l.94 2.06.94-2.06 2.06-.94-2.06-.94-.94-2.06-.94 2.06-2.06.94z\"/><path d=\"M17.41 7.96l-1.37-1.37c-.4-.4-.92-.59-1.43-.59-.52 0-1.04.2-1.43.59L10.3 9.45l-7.72 7.72c-.78.78-.78 2.05 0 2.83L4 21.41c.39.39.9.59 1.41.59.51 0 1.02-.2 1.41-.59l7.78-7.78 2.81-2.81c.8-.78.8-2.07 0-2.86zM5.41 20L4 18.59l7.72-7.72 1.47 1.35L5.41 20z\"/>\n",
              "  </svg>\n",
              "      </button>\n",
              "      \n",
              "  <style>\n",
              "    .colab-df-container {\n",
              "      display:flex;\n",
              "      flex-wrap:wrap;\n",
              "      gap: 12px;\n",
              "    }\n",
              "\n",
              "    .colab-df-convert {\n",
              "      background-color: #E8F0FE;\n",
              "      border: none;\n",
              "      border-radius: 50%;\n",
              "      cursor: pointer;\n",
              "      display: none;\n",
              "      fill: #1967D2;\n",
              "      height: 32px;\n",
              "      padding: 0 0 0 0;\n",
              "      width: 32px;\n",
              "    }\n",
              "\n",
              "    .colab-df-convert:hover {\n",
              "      background-color: #E2EBFA;\n",
              "      box-shadow: 0px 1px 2px rgba(60, 64, 67, 0.3), 0px 1px 3px 1px rgba(60, 64, 67, 0.15);\n",
              "      fill: #174EA6;\n",
              "    }\n",
              "\n",
              "    [theme=dark] .colab-df-convert {\n",
              "      background-color: #3B4455;\n",
              "      fill: #D2E3FC;\n",
              "    }\n",
              "\n",
              "    [theme=dark] .colab-df-convert:hover {\n",
              "      background-color: #434B5C;\n",
              "      box-shadow: 0px 1px 3px 1px rgba(0, 0, 0, 0.15);\n",
              "      filter: drop-shadow(0px 1px 2px rgba(0, 0, 0, 0.3));\n",
              "      fill: #FFFFFF;\n",
              "    }\n",
              "  </style>\n",
              "\n",
              "      <script>\n",
              "        const buttonEl =\n",
              "          document.querySelector('#df-37613aa2-d3c5-4be1-8dfd-8ee2758e1678 button.colab-df-convert');\n",
              "        buttonEl.style.display =\n",
              "          google.colab.kernel.accessAllowed ? 'block' : 'none';\n",
              "\n",
              "        async function convertToInteractive(key) {\n",
              "          const element = document.querySelector('#df-37613aa2-d3c5-4be1-8dfd-8ee2758e1678');\n",
              "          const dataTable =\n",
              "            await google.colab.kernel.invokeFunction('convertToInteractive',\n",
              "                                                     [key], {});\n",
              "          if (!dataTable) return;\n",
              "\n",
              "          const docLinkHtml = 'Like what you see? Visit the ' +\n",
              "            '<a target=\"_blank\" href=https://colab.research.google.com/notebooks/data_table.ipynb>data table notebook</a>'\n",
              "            + ' to learn more about interactive tables.';\n",
              "          element.innerHTML = '';\n",
              "          dataTable['output_type'] = 'display_data';\n",
              "          await google.colab.output.renderOutput(dataTable, element);\n",
              "          const docLink = document.createElement('div');\n",
              "          docLink.innerHTML = docLinkHtml;\n",
              "          element.appendChild(docLink);\n",
              "        }\n",
              "      </script>\n",
              "    </div>\n",
              "  </div>\n",
              "  "
            ]
          },
          "metadata": {},
          "execution_count": 4
        }
      ]
    },
    {
      "cell_type": "code",
      "source": [
        "df.info()"
      ],
      "metadata": {
        "colab": {
          "base_uri": "https://localhost:8080/"
        },
        "id": "jb-RwrluWtsY",
        "outputId": "3875b7af-def6-407a-e95d-edb8fe4b2b5d"
      },
      "execution_count": null,
      "outputs": [
        {
          "output_type": "stream",
          "name": "stdout",
          "text": [
            "<class 'pandas.core.frame.DataFrame'>\n",
            "RangeIndex: 10000 entries, 0 to 9999\n",
            "Data columns (total 4 columns):\n",
            " #   Column                  Non-Null Count  Dtype  \n",
            "---  ------                  --------------  -----  \n",
            " 0   Moderate Positive Skew  10000 non-null  float64\n",
            " 1   Highly Positive Skew    10000 non-null  float64\n",
            " 2   Moderate Negative Skew  10000 non-null  float64\n",
            " 3   Highly Negative Skew    10000 non-null  float64\n",
            "dtypes: float64(4)\n",
            "memory usage: 312.6 KB\n"
          ]
        }
      ]
    },
    {
      "cell_type": "code",
      "source": [
        "df.hist(grid=False,figsize=(10,7),bins=30)"
      ],
      "metadata": {
        "colab": {
          "base_uri": "https://localhost:8080/",
          "height": 531
        },
        "id": "44592HggW0SJ",
        "outputId": "28b61f02-f05e-42db-b29d-eedfa158b779"
      },
      "execution_count": null,
      "outputs": [
        {
          "output_type": "execute_result",
          "data": {
            "text/plain": [
              "array([[<matplotlib.axes._subplots.AxesSubplot object at 0x7f96e32adfd0>,\n",
              "        <matplotlib.axes._subplots.AxesSubplot object at 0x7f96e32b3e90>],\n",
              "       [<matplotlib.axes._subplots.AxesSubplot object at 0x7f96e32764d0>,\n",
              "        <matplotlib.axes._subplots.AxesSubplot object at 0x7f96e322dad0>]],\n",
              "      dtype=object)"
            ]
          },
          "metadata": {},
          "execution_count": 7
        },
        {
          "output_type": "display_data",
          "data": {
            "text/plain": [
              "<Figure size 720x504 with 4 Axes>"
            ],
            "image/png": "[encoded data removed]"
          },
          "metadata": {
            "needs_background": "light"
          }
        }
      ]
    },
    {
      "cell_type": "code",
      "source": [
        "df.agg(['skew','kurtosis']).transpose()"
      ],
      "metadata": {
        "colab": {
          "base_uri": "https://localhost:8080/",
          "height": 175
        },
        "id": "KQVnajwtXLnx",
        "outputId": "37c3b4eb-d794-477d-de9c-21fdf937d257"
      },
      "execution_count": null,
      "outputs": [
        {
          "output_type": "execute_result",
          "data": {
            "text/plain": [
              "                            skew  kurtosis\n",
              "Moderate Positive Skew  0.656308  0.584120\n",
              "Highly Positive Skew    1.271249  2.405999\n",
              "Moderate Negative Skew -0.690244  0.790534\n",
              "Highly Negative Skew   -1.201891  2.086863"
            ],
            "text/html": [
              "\n",
              "  <div id=\"df-35db533b-e325-4f72-bbf3-8121ce88ebb0\">\n",
              "    <div class=\"colab-df-container\">\n",
              "      <div>\n",
              "<style scoped>\n",
              "    .dataframe tbody tr th:only-of-type {\n",
              "        vertical-align: middle;\n",
              "    }\n",
              "\n",
              "    .dataframe tbody tr th {\n",
              "        vertical-align: top;\n",
              "    }\n",
              "\n",
              "    .dataframe thead th {\n",
              "        text-align: right;\n",
              "    }\n",
              "</style>\n",
              "<table border=\"1\" class=\"dataframe\">\n",
              "  <thead>\n",
              "    <tr style=\"text-align: right;\">\n",
              "      <th></th>\n",
              "      <th>skew</th>\n",
              "      <th>kurtosis</th>\n",
              "    </tr>\n",
              "  </thead>\n",
              "  <tbody>\n",
              "    <tr>\n",
              "      <th>Moderate Positive Skew</th>\n",
              "      <td>0.656308</td>\n",
              "      <td>0.584120</td>\n",
              "    </tr>\n",
              "    <tr>\n",
              "      <th>Highly Positive Skew</th>\n",
              "      <td>1.271249</td>\n",
              "      <td>2.405999</td>\n",
              "    </tr>\n",
              "    <tr>\n",
              "      <th>Moderate Negative Skew</th>\n",
              "      <td>-0.690244</td>\n",
              "      <td>0.790534</td>\n",
              "    </tr>\n",
              "    <tr>\n",
              "      <th>Highly Negative Skew</th>\n",
              "      <td>-1.201891</td>\n",
              "      <td>2.086863</td>\n",
              "    </tr>\n",
              "  </tbody>\n",
              "</table>\n",
              "</div>\n",
              "      <button class=\"colab-df-convert\" onclick=\"convertToInteractive('df-35db533b-e325-4f72-bbf3-8121ce88ebb0')\"\n",
              "              title=\"Convert this dataframe to an interactive table.\"\n",
              "              style=\"display:none;\">\n",
              "        \n",
              "  <svg xmlns=\"http://www.w3.org/2000/svg\" height=\"24px\"viewBox=\"0 0 24 24\"\n",
              "       width=\"24px\">\n",
              "    <path d=\"M0 0h24v24H0V0z\" fill=\"none\"/>\n",
              "    <path d=\"M18.56 5.44l.94 2.06.94-2.06 2.06-.94-2.06-.94-.94-2.06-.94 2.06-2.06.94zm-11 1L8.5 8.5l.94-2.06 2.06-.94-2.06-.94L8.5 2.5l-.94 2.06-2.06.94zm10 10l.94 2.06.94-2.06 2.06-.94-2.06-.94-.94-2.06-.94 2.06-2.06.94z\"/><path d=\"M17.41 7.96l-1.37-1.37c-.4-.4-.92-.59-1.43-.59-.52 0-1.04.2-1.43.59L10.3 9.45l-7.72 7.72c-.78.78-.78 2.05 0 2.83L4 21.41c.39.39.9.59 1.41.59.51 0 1.02-.2 1.41-.59l7.78-7.78 2.81-2.81c.8-.78.8-2.07 0-2.86zM5.41 20L4 18.59l7.72-7.72 1.47 1.35L5.41 20z\"/>\n",
              "  </svg>\n",
              "      </button>\n",
              "      \n",
              "  <style>\n",
              "    .colab-df-container {\n",
              "      display:flex;\n",
              "      flex-wrap:wrap;\n",
              "      gap: 12px;\n",
              "    }\n",
              "\n",
              "    .colab-df-convert {\n",
              "      background-color: #E8F0FE;\n",
              "      border: none;\n",
              "      border-radius: 50%;\n",
              "      cursor: pointer;\n",
              "      display: none;\n",
              "      fill: #1967D2;\n",
              "      height: 32px;\n",
              "      padding: 0 0 0 0;\n",
              "      width: 32px;\n",
              "    }\n",
              "\n",
              "    .colab-df-convert:hover {\n",
              "      background-color: #E2EBFA;\n",
              "      box-shadow: 0px 1px 2px rgba(60, 64, 67, 0.3), 0px 1px 3px 1px rgba(60, 64, 67, 0.15);\n",
              "      fill: #174EA6;\n",
              "    }\n",
              "\n",
              "    [theme=dark] .colab-df-convert {\n",
              "      background-color: #3B4455;\n",
              "      fill: #D2E3FC;\n",
              "    }\n",
              "\n",
              "    [theme=dark] .colab-df-convert:hover {\n",
              "      background-color: #434B5C;\n",
              "      box-shadow: 0px 1px 3px 1px rgba(0, 0, 0, 0.15);\n",
              "      filter: drop-shadow(0px 1px 2px rgba(0, 0, 0, 0.3));\n",
              "      fill: #FFFFFF;\n",
              "    }\n",
              "  </style>\n",
              "\n",
              "      <script>\n",
              "        const buttonEl =\n",
              "          document.querySelector('#df-35db533b-e325-4f72-bbf3-8121ce88ebb0 button.colab-df-convert');\n",
              "        buttonEl.style.display =\n",
              "          google.colab.kernel.accessAllowed ? 'block' : 'none';\n",
              "\n",
              "        async function convertToInteractive(key) {\n",
              "          const element = document.querySelector('#df-35db533b-e325-4f72-bbf3-8121ce88ebb0');\n",
              "          const dataTable =\n",
              "            await google.colab.kernel.invokeFunction('convertToInteractive',\n",
              "                                                     [key], {});\n",
              "          if (!dataTable) return;\n",
              "\n",
              "          const docLinkHtml = 'Like what you see? Visit the ' +\n",
              "            '<a target=\"_blank\" href=https://colab.research.google.com/notebooks/data_table.ipynb>data table notebook</a>'\n",
              "            + ' to learn more about interactive tables.';\n",
              "          element.innerHTML = '';\n",
              "          dataTable['output_type'] = 'display_data';\n",
              "          await google.colab.output.renderOutput(dataTable, element);\n",
              "          const docLink = document.createElement('div');\n",
              "          docLink.innerHTML = docLinkHtml;\n",
              "          element.appendChild(docLink);\n",
              "        }\n",
              "      </script>\n",
              "    </div>\n",
              "  </div>\n",
              "  "
            ]
          },
          "metadata": {},
          "execution_count": 9
        }
      ]
    },
    {
      "cell_type": "markdown",
      "source": [
        "fairly symmetrical : -0.5 to 0.5\n",
        "\n",
        "Moderate Skewed: -0.5 to -1.0 and 0.5 to 1.0\n",
        "\n",
        "\n",
        "Highly skewed : <-1.0 and >1.0"
      ],
      "metadata": {
        "id": "KYFLGiORXlNq"
      }
    },
    {
      "cell_type": "code",
      "source": [
        "#log Transform\n",
        "#positive skew data\n",
        "df"
      ],
      "metadata": {
        "colab": {
          "base_uri": "https://localhost:8080/",
          "height": 200
        },
        "id": "bRM2Ahu8Xk5x",
        "outputId": "646ce05d-efbb-4dab-dabc-b718893f7386"
      },
      "execution_count": null,
      "outputs": [
        {
          "output_type": "error",
          "ename": "NameError",
          "evalue": "ignored",
          "traceback": [
            "\u001b[0;31m---------------------------------------------------------------------------\u001b[0m",
            "\u001b[0;31mNameError\u001b[0m                                 Traceback (most recent call last)",
            "\u001b[0;32m<ipython-input-1-0198e7c848d9>\u001b[0m in \u001b[0;36m<module>\u001b[0;34m\u001b[0m\n\u001b[1;32m      1\u001b[0m \u001b[0;31m#log Transform\u001b[0m\u001b[0;34m\u001b[0m\u001b[0;34m\u001b[0m\u001b[0;34m\u001b[0m\u001b[0m\n\u001b[1;32m      2\u001b[0m \u001b[0;31m#positive skew data\u001b[0m\u001b[0;34m\u001b[0m\u001b[0;34m\u001b[0m\u001b[0;34m\u001b[0m\u001b[0m\n\u001b[0;32m----> 3\u001b[0;31m \u001b[0mdf\u001b[0m\u001b[0;34m\u001b[0m\u001b[0;34m\u001b[0m\u001b[0m\n\u001b[0m",
            "\u001b[0;31mNameError\u001b[0m: name 'df' is not defined"
          ]
        }
      ]
    },
    {
      "cell_type": "code",
      "source": [
        "df.insert(len(df.columns),'p_log',np.log(df['Highly Positive Skew']))"
      ],
      "metadata": {
        "id": "sih4X2xSYbuP"
      },
      "execution_count": null,
      "outputs": []
    },
    {
      "cell_type": "code",
      "source": [
        "df.head()"
      ],
      "metadata": {
        "colab": {
          "base_uri": "https://localhost:8080/",
          "height": 206
        },
        "id": "ZhUQawHKY1x4",
        "outputId": "13f2bc4e-47f2-4309-c88c-58cac796324d"
      },
      "execution_count": null,
      "outputs": [
        {
          "output_type": "execute_result",
          "data": {
            "text/plain": [
              "   Moderate Positive Skew  Highly Positive Skew  Moderate Negative Skew  \\\n",
              "0                0.899990              2.895074               11.180748   \n",
              "1                1.113554              2.962385               10.842938   \n",
              "2                1.156830              2.966378               10.817934   \n",
              "3                1.264131              3.000324               10.764570   \n",
              "4                1.323914              3.012109               10.753117   \n",
              "\n",
              "   Highly Negative Skew     p_log  \n",
              "0              9.027485  1.063011  \n",
              "1              9.009762  1.085995  \n",
              "2              9.006134  1.087342  \n",
              "3              9.000125  1.098720  \n",
              "4              8.981296  1.102640  "
            ],
            "text/html": [
              "\n",
              "  <div id=\"df-0b596e2b-cbb3-40ea-8136-c872d4da9a9f\">\n",
              "    <div class=\"colab-df-container\">\n",
              "      <div>\n",
              "<style scoped>\n",
              "    .dataframe tbody tr th:only-of-type {\n",
              "        vertical-align: middle;\n",
              "    }\n",
              "\n",
              "    .dataframe tbody tr th {\n",
              "        vertical-align: top;\n",
              "    }\n",
              "\n",
              "    .dataframe thead th {\n",
              "        text-align: right;\n",
              "    }\n",
              "</style>\n",
              "<table border=\"1\" class=\"dataframe\">\n",
              "  <thead>\n",
              "    <tr style=\"text-align: right;\">\n",
              "      <th></th>\n",
              "      <th>Moderate Positive Skew</th>\n",
              "      <th>Highly Positive Skew</th>\n",
              "      <th>Moderate Negative Skew</th>\n",
              "      <th>Highly Negative Skew</th>\n",
              "      <th>p_log</th>\n",
              "    </tr>\n",
              "  </thead>\n",
              "  <tbody>\n",
              "    <tr>\n",
              "      <th>0</th>\n",
              "      <td>0.899990</td>\n",
              "      <td>2.895074</td>\n",
              "      <td>11.180748</td>\n",
              "      <td>9.027485</td>\n",
              "      <td>1.063011</td>\n",
              "    </tr>\n",
              "    <tr>\n",
              "      <th>1</th>\n",
              "      <td>1.113554</td>\n",
              "      <td>2.962385</td>\n",
              "      <td>10.842938</td>\n",
              "      <td>9.009762</td>\n",
              "      <td>1.085995</td>\n",
              "    </tr>\n",
              "    <tr>\n",
              "      <th>2</th>\n",
              "      <td>1.156830</td>\n",
              "      <td>2.966378</td>\n",
              "      <td>10.817934</td>\n",
              "      <td>9.006134</td>\n",
              "      <td>1.087342</td>\n",
              "    </tr>\n",
              "    <tr>\n",
              "      <th>3</th>\n",
              "      <td>1.264131</td>\n",
              "      <td>3.000324</td>\n",
              "      <td>10.764570</td>\n",
              "      <td>9.000125</td>\n",
              "      <td>1.098720</td>\n",
              "    </tr>\n",
              "    <tr>\n",
              "      <th>4</th>\n",
              "      <td>1.323914</td>\n",
              "      <td>3.012109</td>\n",
              "      <td>10.753117</td>\n",
              "      <td>8.981296</td>\n",
              "      <td>1.102640</td>\n",
              "    </tr>\n",
              "  </tbody>\n",
              "</table>\n",
              "</div>\n",
              "      <button class=\"colab-df-convert\" onclick=\"convertToInteractive('df-0b596e2b-cbb3-40ea-8136-c872d4da9a9f')\"\n",
              "              title=\"Convert this dataframe to an interactive table.\"\n",
              "              style=\"display:none;\">\n",
              "        \n",
              "  <svg xmlns=\"http://www.w3.org/2000/svg\" height=\"24px\"viewBox=\"0 0 24 24\"\n",
              "       width=\"24px\">\n",
              "    <path d=\"M0 0h24v24H0V0z\" fill=\"none\"/>\n",
              "    <path d=\"M18.56 5.44l.94 2.06.94-2.06 2.06-.94-2.06-.94-.94-2.06-.94 2.06-2.06.94zm-11 1L8.5 8.5l.94-2.06 2.06-.94-2.06-.94L8.5 2.5l-.94 2.06-2.06.94zm10 10l.94 2.06.94-2.06 2.06-.94-2.06-.94-.94-2.06-.94 2.06-2.06.94z\"/><path d=\"M17.41 7.96l-1.37-1.37c-.4-.4-.92-.59-1.43-.59-.52 0-1.04.2-1.43.59L10.3 9.45l-7.72 7.72c-.78.78-.78 2.05 0 2.83L4 21.41c.39.39.9.59 1.41.59.51 0 1.02-.2 1.41-.59l7.78-7.78 2.81-2.81c.8-.78.8-2.07 0-2.86zM5.41 20L4 18.59l7.72-7.72 1.47 1.35L5.41 20z\"/>\n",
              "  </svg>\n",
              "      </button>\n",
              "      \n",
              "  <style>\n",
              "    .colab-df-container {\n",
              "      display:flex;\n",
              "      flex-wrap:wrap;\n",
              "      gap: 12px;\n",
              "    }\n",
              "\n",
              "    .colab-df-convert {\n",
              "      background-color: #E8F0FE;\n",
              "      border: none;\n",
              "      border-radius: 50%;\n",
              "      cursor: pointer;\n",
              "      display: none;\n",
              "      fill: #1967D2;\n",
              "      height: 32px;\n",
              "      padding: 0 0 0 0;\n",
              "      width: 32px;\n",
              "    }\n",
              "\n",
              "    .colab-df-convert:hover {\n",
              "      background-color: #E2EBFA;\n",
              "      box-shadow: 0px 1px 2px rgba(60, 64, 67, 0.3), 0px 1px 3px 1px rgba(60, 64, 67, 0.15);\n",
              "      fill: #174EA6;\n",
              "    }\n",
              "\n",
              "    [theme=dark] .colab-df-convert {\n",
              "      background-color: #3B4455;\n",
              "      fill: #D2E3FC;\n",
              "    }\n",
              "\n",
              "    [theme=dark] .colab-df-convert:hover {\n",
              "      background-color: #434B5C;\n",
              "      box-shadow: 0px 1px 3px 1px rgba(0, 0, 0, 0.15);\n",
              "      filter: drop-shadow(0px 1px 2px rgba(0, 0, 0, 0.3));\n",
              "      fill: #FFFFFF;\n",
              "    }\n",
              "  </style>\n",
              "\n",
              "      <script>\n",
              "        const buttonEl =\n",
              "          document.querySelector('#df-0b596e2b-cbb3-40ea-8136-c872d4da9a9f button.colab-df-convert');\n",
              "        buttonEl.style.display =\n",
              "          google.colab.kernel.accessAllowed ? 'block' : 'none';\n",
              "\n",
              "        async function convertToInteractive(key) {\n",
              "          const element = document.querySelector('#df-0b596e2b-cbb3-40ea-8136-c872d4da9a9f');\n",
              "          const dataTable =\n",
              "            await google.colab.kernel.invokeFunction('convertToInteractive',\n",
              "                                                     [key], {});\n",
              "          if (!dataTable) return;\n",
              "\n",
              "          const docLinkHtml = 'Like what you see? Visit the ' +\n",
              "            '<a target=\"_blank\" href=https://colab.research.google.com/notebooks/data_table.ipynb>data table notebook</a>'\n",
              "            + ' to learn more about interactive tables.';\n",
              "          element.innerHTML = '';\n",
              "          dataTable['output_type'] = 'display_data';\n",
              "          await google.colab.output.renderOutput(dataTable, element);\n",
              "          const docLink = document.createElement('div');\n",
              "          docLink.innerHTML = docLinkHtml;\n",
              "          element.appendChild(docLink);\n",
              "        }\n",
              "      </script>\n",
              "    </div>\n",
              "  </div>\n",
              "  "
            ]
          },
          "metadata": {},
          "execution_count": 12
        }
      ]
    },
    {
      "cell_type": "code",
      "source": [
        "df.hist(grid=False,figsize=(10,7),bins=30)"
      ],
      "metadata": {
        "colab": {
          "base_uri": "https://localhost:8080/",
          "height": 565
        },
        "id": "etlo0gwfZALb",
        "outputId": "cfcc219f-82a2-4d9f-a07c-5987aca4d86a"
      },
      "execution_count": null,
      "outputs": [
        {
          "output_type": "execute_result",
          "data": {
            "text/plain": [
              "array([[<matplotlib.axes._subplots.AxesSubplot object at 0x7f96e2d0ac90>,\n",
              "        <matplotlib.axes._subplots.AxesSubplot object at 0x7f96e2d3ff90>],\n",
              "       [<matplotlib.axes._subplots.AxesSubplot object at 0x7f96e2ecab90>,\n",
              "        <matplotlib.axes._subplots.AxesSubplot object at 0x7f96e2cc7a90>],\n",
              "       [<matplotlib.axes._subplots.AxesSubplot object at 0x7f96e2c8a0d0>,\n",
              "        <matplotlib.axes._subplots.AxesSubplot object at 0x7f96e2c406d0>]],\n",
              "      dtype=object)"
            ]
          },
          "metadata": {},
          "execution_count": 13
        },
        {
          "output_type": "display_data",
          "data": {
            "text/plain": [
              "<Figure size 720x504 with 6 Axes>"
            ],
            "image/png": "[encoded data removed]"
          },
          "metadata": {
            "needs_background": "light"
          }
        }
      ]
    },
    {
      "cell_type": "code",
      "source": [
        "#log Transform\n",
        "#negative skew\n",
        "df.insert(len(df.columns),'N1_log',np.log(max(df.iloc[:,2]+1)-df.iloc[:,2]))"
      ],
      "metadata": {
        "id": "ElnhCMWCZPew"
      },
      "execution_count": null,
      "outputs": []
    },
    {
      "cell_type": "code",
      "source": [
        "df.head()"
      ],
      "metadata": {
        "colab": {
          "base_uri": "https://localhost:8080/",
          "height": 206
        },
        "id": "_Vi_4R7tZ5Rc",
        "outputId": "9067707c-a25c-45c9-d5aa-e666e277a282"
      },
      "execution_count": null,
      "outputs": [
        {
          "output_type": "execute_result",
          "data": {
            "text/plain": [
              "   Moderate Positive Skew  Highly Positive Skew  Moderate Negative Skew  \\\n",
              "0                0.899990              2.895074               11.180748   \n",
              "1                1.113554              2.962385               10.842938   \n",
              "2                1.156830              2.966378               10.817934   \n",
              "3                1.264131              3.000324               10.764570   \n",
              "4                1.323914              3.012109               10.753117   \n",
              "\n",
              "   Highly Negative Skew     p_log     N_log    N1_log  \n",
              "0              9.027485  1.063011 -8.680891  0.000000  \n",
              "1              9.009762  1.085995 -8.343081  0.291034  \n",
              "2              9.006134  1.087342 -8.318077  0.309552  \n",
              "3              9.000125  1.098720 -8.264713  0.347962  \n",
              "4              8.981296  1.102640 -8.253260  0.356016  "
            ],
            "text/html": [
              "\n",
              "  <div id=\"df-0bf578c0-da80-46a0-9a45-7d3928301ebf\">\n",
              "    <div class=\"colab-df-container\">\n",
              "      <div>\n",
              "<style scoped>\n",
              "    .dataframe tbody tr th:only-of-type {\n",
              "        vertical-align: middle;\n",
              "    }\n",
              "\n",
              "    .dataframe tbody tr th {\n",
              "        vertical-align: top;\n",
              "    }\n",
              "\n",
              "    .dataframe thead th {\n",
              "        text-align: right;\n",
              "    }\n",
              "</style>\n",
              "<table border=\"1\" class=\"dataframe\">\n",
              "  <thead>\n",
              "    <tr style=\"text-align: right;\">\n",
              "      <th></th>\n",
              "      <th>Moderate Positive Skew</th>\n",
              "      <th>Highly Positive Skew</th>\n",
              "      <th>Moderate Negative Skew</th>\n",
              "      <th>Highly Negative Skew</th>\n",
              "      <th>p_log</th>\n",
              "      <th>N_log</th>\n",
              "      <th>N1_log</th>\n",
              "    </tr>\n",
              "  </thead>\n",
              "  <tbody>\n",
              "    <tr>\n",
              "      <th>0</th>\n",
              "      <td>0.899990</td>\n",
              "      <td>2.895074</td>\n",
              "      <td>11.180748</td>\n",
              "      <td>9.027485</td>\n",
              "      <td>1.063011</td>\n",
              "      <td>-8.680891</td>\n",
              "      <td>0.000000</td>\n",
              "    </tr>\n",
              "    <tr>\n",
              "      <th>1</th>\n",
              "      <td>1.113554</td>\n",
              "      <td>2.962385</td>\n",
              "      <td>10.842938</td>\n",
              "      <td>9.009762</td>\n",
              "      <td>1.085995</td>\n",
              "      <td>-8.343081</td>\n",
              "      <td>0.291034</td>\n",
              "    </tr>\n",
              "    <tr>\n",
              "      <th>2</th>\n",
              "      <td>1.156830</td>\n",
              "      <td>2.966378</td>\n",
              "      <td>10.817934</td>\n",
              "      <td>9.006134</td>\n",
              "      <td>1.087342</td>\n",
              "      <td>-8.318077</td>\n",
              "      <td>0.309552</td>\n",
              "    </tr>\n",
              "    <tr>\n",
              "      <th>3</th>\n",
              "      <td>1.264131</td>\n",
              "      <td>3.000324</td>\n",
              "      <td>10.764570</td>\n",
              "      <td>9.000125</td>\n",
              "      <td>1.098720</td>\n",
              "      <td>-8.264713</td>\n",
              "      <td>0.347962</td>\n",
              "    </tr>\n",
              "    <tr>\n",
              "      <th>4</th>\n",
              "      <td>1.323914</td>\n",
              "      <td>3.012109</td>\n",
              "      <td>10.753117</td>\n",
              "      <td>8.981296</td>\n",
              "      <td>1.102640</td>\n",
              "      <td>-8.253260</td>\n",
              "      <td>0.356016</td>\n",
              "    </tr>\n",
              "  </tbody>\n",
              "</table>\n",
              "</div>\n",
              "      <button class=\"colab-df-convert\" onclick=\"convertToInteractive('df-0bf578c0-da80-46a0-9a45-7d3928301ebf')\"\n",
              "              title=\"Convert this dataframe to an interactive table.\"\n",
              "              style=\"display:none;\">\n",
              "        \n",
              "  <svg xmlns=\"http://www.w3.org/2000/svg\" height=\"24px\"viewBox=\"0 0 24 24\"\n",
              "       width=\"24px\">\n",
              "    <path d=\"M0 0h24v24H0V0z\" fill=\"none\"/>\n",
              "    <path d=\"M18.56 5.44l.94 2.06.94-2.06 2.06-.94-2.06-.94-.94-2.06-.94 2.06-2.06.94zm-11 1L8.5 8.5l.94-2.06 2.06-.94-2.06-.94L8.5 2.5l-.94 2.06-2.06.94zm10 10l.94 2.06.94-2.06 2.06-.94-2.06-.94-.94-2.06-.94 2.06-2.06.94z\"/><path d=\"M17.41 7.96l-1.37-1.37c-.4-.4-.92-.59-1.43-.59-.52 0-1.04.2-1.43.59L10.3 9.45l-7.72 7.72c-.78.78-.78 2.05 0 2.83L4 21.41c.39.39.9.59 1.41.59.51 0 1.02-.2 1.41-.59l7.78-7.78 2.81-2.81c.8-.78.8-2.07 0-2.86zM5.41 20L4 18.59l7.72-7.72 1.47 1.35L5.41 20z\"/>\n",
              "  </svg>\n",
              "      </button>\n",
              "      \n",
              "  <style>\n",
              "    .colab-df-container {\n",
              "      display:flex;\n",
              "      flex-wrap:wrap;\n",
              "      gap: 12px;\n",
              "    }\n",
              "\n",
              "    .colab-df-convert {\n",
              "      background-color: #E8F0FE;\n",
              "      border: none;\n",
              "      border-radius: 50%;\n",
              "      cursor: pointer;\n",
              "      display: none;\n",
              "      fill: #1967D2;\n",
              "      height: 32px;\n",
              "      padding: 0 0 0 0;\n",
              "      width: 32px;\n",
              "    }\n",
              "\n",
              "    .colab-df-convert:hover {\n",
              "      background-color: #E2EBFA;\n",
              "      box-shadow: 0px 1px 2px rgba(60, 64, 67, 0.3), 0px 1px 3px 1px rgba(60, 64, 67, 0.15);\n",
              "      fill: #174EA6;\n",
              "    }\n",
              "\n",
              "    [theme=dark] .colab-df-convert {\n",
              "      background-color: #3B4455;\n",
              "      fill: #D2E3FC;\n",
              "    }\n",
              "\n",
              "    [theme=dark] .colab-df-convert:hover {\n",
              "      background-color: #434B5C;\n",
              "      box-shadow: 0px 1px 3px 1px rgba(0, 0, 0, 0.15);\n",
              "      filter: drop-shadow(0px 1px 2px rgba(0, 0, 0, 0.3));\n",
              "      fill: #FFFFFF;\n",
              "    }\n",
              "  </style>\n",
              "\n",
              "      <script>\n",
              "        const buttonEl =\n",
              "          document.querySelector('#df-0bf578c0-da80-46a0-9a45-7d3928301ebf button.colab-df-convert');\n",
              "        buttonEl.style.display =\n",
              "          google.colab.kernel.accessAllowed ? 'block' : 'none';\n",
              "\n",
              "        async function convertToInteractive(key) {\n",
              "          const element = document.querySelector('#df-0bf578c0-da80-46a0-9a45-7d3928301ebf');\n",
              "          const dataTable =\n",
              "            await google.colab.kernel.invokeFunction('convertToInteractive',\n",
              "                                                     [key], {});\n",
              "          if (!dataTable) return;\n",
              "\n",
              "          const docLinkHtml = 'Like what you see? Visit the ' +\n",
              "            '<a target=\"_blank\" href=https://colab.research.google.com/notebooks/data_table.ipynb>data table notebook</a>'\n",
              "            + ' to learn more about interactive tables.';\n",
              "          element.innerHTML = '';\n",
              "          dataTable['output_type'] = 'display_data';\n",
              "          await google.colab.output.renderOutput(dataTable, element);\n",
              "          const docLink = document.createElement('div');\n",
              "          docLink.innerHTML = docLinkHtml;\n",
              "          element.appendChild(docLink);\n",
              "        }\n",
              "      </script>\n",
              "    </div>\n",
              "  </div>\n",
              "  "
            ]
          },
          "metadata": {},
          "execution_count": 21
        }
      ]
    },
    {
      "cell_type": "code",
      "source": [
        "df.hist(grid=False,figsize=(10,7),bins=30)"
      ],
      "metadata": {
        "colab": {
          "base_uri": "https://localhost:8080/",
          "height": 618
        },
        "id": "qLcbMd9haBEy",
        "outputId": "04d217c4-69a0-4a5e-b04d-f5685d5b2f5e"
      },
      "execution_count": null,
      "outputs": [
        {
          "output_type": "execute_result",
          "data": {
            "text/plain": [
              "array([[<matplotlib.axes._subplots.AxesSubplot object at 0x7f96e2a2b110>,\n",
              "        <matplotlib.axes._subplots.AxesSubplot object at 0x7f96e2952e50>,\n",
              "        <matplotlib.axes._subplots.AxesSubplot object at 0x7f96e287a6d0>],\n",
              "       [<matplotlib.axes._subplots.AxesSubplot object at 0x7f96e272afd0>,\n",
              "        <matplotlib.axes._subplots.AxesSubplot object at 0x7f96e2613150>,\n",
              "        <matplotlib.axes._subplots.AxesSubplot object at 0x7f96e2a132d0>],\n",
              "       [<matplotlib.axes._subplots.AxesSubplot object at 0x7f96e23e6710>,\n",
              "        <matplotlib.axes._subplots.AxesSubplot object at 0x7f96e239cd10>,\n",
              "        <matplotlib.axes._subplots.AxesSubplot object at 0x7f96e23b41d0>]],\n",
              "      dtype=object)"
            ]
          },
          "metadata": {},
          "execution_count": 20
        },
        {
          "output_type": "display_data",
          "data": {
            "text/plain": [
              "<Figure size 720x504 with 9 Axes>"
            ],
            "image/png": "[encoded data removed]"
          },
          "metadata": {
            "needs_background": "light"
          }
        }
      ]
    },
    {
      "cell_type": "code",
      "source": [
        "#square root\n",
        "\n",
        "df.insert(len(df.columns),'P_sqrt',np.sqrt(df.iloc[:,0]))\n"
      ],
      "metadata": {
        "id": "ru4i5qr9bjh_"
      },
      "execution_count": null,
      "outputs": []
    },
    {
      "cell_type": "code",
      "source": [
        "df.head()"
      ],
      "metadata": {
        "colab": {
          "base_uri": "https://localhost:8080/",
          "height": 206
        },
        "id": "FqFj90u7cN1p",
        "outputId": "7e303b88-dbf6-49c8-a143-7221ec18051a"
      },
      "execution_count": null,
      "outputs": [
        {
          "output_type": "execute_result",
          "data": {
            "text/plain": [
              "   Moderate Positive Skew  Highly Positive Skew  Moderate Negative Skew  \\\n",
              "0                0.899990              2.895074               11.180748   \n",
              "1                1.113554              2.962385               10.842938   \n",
              "2                1.156830              2.966378               10.817934   \n",
              "3                1.264131              3.000324               10.764570   \n",
              "4                1.323914              3.012109               10.753117   \n",
              "\n",
              "   Highly Negative Skew     p_log     N_log    N1_log    P_sqrt  \n",
              "0              9.027485  1.063011 -8.680891  0.000000  0.948678  \n",
              "1              9.009762  1.085995 -8.343081  0.291034  1.055251  \n",
              "2              9.006134  1.087342 -8.318077  0.309552  1.075560  \n",
              "3              9.000125  1.098720 -8.264713  0.347962  1.124336  \n",
              "4              8.981296  1.102640 -8.253260  0.356016  1.150615  "
            ],
            "text/html": [
              "\n",
              "  <div id=\"df-e401e97c-1e85-4d0b-8860-1352b7005589\">\n",
              "    <div class=\"colab-df-container\">\n",
              "      <div>\n",
              "<style scoped>\n",
              "    .dataframe tbody tr th:only-of-type {\n",
              "        vertical-align: middle;\n",
              "    }\n",
              "\n",
              "    .dataframe tbody tr th {\n",
              "        vertical-align: top;\n",
              "    }\n",
              "\n",
              "    .dataframe thead th {\n",
              "        text-align: right;\n",
              "    }\n",
              "</style>\n",
              "<table border=\"1\" class=\"dataframe\">\n",
              "  <thead>\n",
              "    <tr style=\"text-align: right;\">\n",
              "      <th></th>\n",
              "      <th>Moderate Positive Skew</th>\n",
              "      <th>Highly Positive Skew</th>\n",
              "      <th>Moderate Negative Skew</th>\n",
              "      <th>Highly Negative Skew</th>\n",
              "      <th>p_log</th>\n",
              "      <th>N_log</th>\n",
              "      <th>N1_log</th>\n",
              "      <th>P_sqrt</th>\n",
              "    </tr>\n",
              "  </thead>\n",
              "  <tbody>\n",
              "    <tr>\n",
              "      <th>0</th>\n",
              "      <td>0.899990</td>\n",
              "      <td>2.895074</td>\n",
              "      <td>11.180748</td>\n",
              "      <td>9.027485</td>\n",
              "      <td>1.063011</td>\n",
              "      <td>-8.680891</td>\n",
              "      <td>0.000000</td>\n",
              "      <td>0.948678</td>\n",
              "    </tr>\n",
              "    <tr>\n",
              "      <th>1</th>\n",
              "      <td>1.113554</td>\n",
              "      <td>2.962385</td>\n",
              "      <td>10.842938</td>\n",
              "      <td>9.009762</td>\n",
              "      <td>1.085995</td>\n",
              "      <td>-8.343081</td>\n",
              "      <td>0.291034</td>\n",
              "      <td>1.055251</td>\n",
              "    </tr>\n",
              "    <tr>\n",
              "      <th>2</th>\n",
              "      <td>1.156830</td>\n",
              "      <td>2.966378</td>\n",
              "      <td>10.817934</td>\n",
              "      <td>9.006134</td>\n",
              "      <td>1.087342</td>\n",
              "      <td>-8.318077</td>\n",
              "      <td>0.309552</td>\n",
              "      <td>1.075560</td>\n",
              "    </tr>\n",
              "    <tr>\n",
              "      <th>3</th>\n",
              "      <td>1.264131</td>\n",
              "      <td>3.000324</td>\n",
              "      <td>10.764570</td>\n",
              "      <td>9.000125</td>\n",
              "      <td>1.098720</td>\n",
              "      <td>-8.264713</td>\n",
              "      <td>0.347962</td>\n",
              "      <td>1.124336</td>\n",
              "    </tr>\n",
              "    <tr>\n",
              "      <th>4</th>\n",
              "      <td>1.323914</td>\n",
              "      <td>3.012109</td>\n",
              "      <td>10.753117</td>\n",
              "      <td>8.981296</td>\n",
              "      <td>1.102640</td>\n",
              "      <td>-8.253260</td>\n",
              "      <td>0.356016</td>\n",
              "      <td>1.150615</td>\n",
              "    </tr>\n",
              "  </tbody>\n",
              "</table>\n",
              "</div>\n",
              "      <button class=\"colab-df-convert\" onclick=\"convertToInteractive('df-e401e97c-1e85-4d0b-8860-1352b7005589')\"\n",
              "              title=\"Convert this dataframe to an interactive table.\"\n",
              "              style=\"display:none;\">\n",
              "        \n",
              "  <svg xmlns=\"http://www.w3.org/2000/svg\" height=\"24px\"viewBox=\"0 0 24 24\"\n",
              "       width=\"24px\">\n",
              "    <path d=\"M0 0h24v24H0V0z\" fill=\"none\"/>\n",
              "    <path d=\"M18.56 5.44l.94 2.06.94-2.06 2.06-.94-2.06-.94-.94-2.06-.94 2.06-2.06.94zm-11 1L8.5 8.5l.94-2.06 2.06-.94-2.06-.94L8.5 2.5l-.94 2.06-2.06.94zm10 10l.94 2.06.94-2.06 2.06-.94-2.06-.94-.94-2.06-.94 2.06-2.06.94z\"/><path d=\"M17.41 7.96l-1.37-1.37c-.4-.4-.92-.59-1.43-.59-.52 0-1.04.2-1.43.59L10.3 9.45l-7.72 7.72c-.78.78-.78 2.05 0 2.83L4 21.41c.39.39.9.59 1.41.59.51 0 1.02-.2 1.41-.59l7.78-7.78 2.81-2.81c.8-.78.8-2.07 0-2.86zM5.41 20L4 18.59l7.72-7.72 1.47 1.35L5.41 20z\"/>\n",
              "  </svg>\n",
              "      </button>\n",
              "      \n",
              "  <style>\n",
              "    .colab-df-container {\n",
              "      display:flex;\n",
              "      flex-wrap:wrap;\n",
              "      gap: 12px;\n",
              "    }\n",
              "\n",
              "    .colab-df-convert {\n",
              "      background-color: #E8F0FE;\n",
              "      border: none;\n",
              "      border-radius: 50%;\n",
              "      cursor: pointer;\n",
              "      display: none;\n",
              "      fill: #1967D2;\n",
              "      height: 32px;\n",
              "      padding: 0 0 0 0;\n",
              "      width: 32px;\n",
              "    }\n",
              "\n",
              "    .colab-df-convert:hover {\n",
              "      background-color: #E2EBFA;\n",
              "      box-shadow: 0px 1px 2px rgba(60, 64, 67, 0.3), 0px 1px 3px 1px rgba(60, 64, 67, 0.15);\n",
              "      fill: #174EA6;\n",
              "    }\n",
              "\n",
              "    [theme=dark] .colab-df-convert {\n",
              "      background-color: #3B4455;\n",
              "      fill: #D2E3FC;\n",
              "    }\n",
              "\n",
              "    [theme=dark] .colab-df-convert:hover {\n",
              "      background-color: #434B5C;\n",
              "      box-shadow: 0px 1px 3px 1px rgba(0, 0, 0, 0.15);\n",
              "      filter: drop-shadow(0px 1px 2px rgba(0, 0, 0, 0.3));\n",
              "      fill: #FFFFFF;\n",
              "    }\n",
              "  </style>\n",
              "\n",
              "      <script>\n",
              "        const buttonEl =\n",
              "          document.querySelector('#df-e401e97c-1e85-4d0b-8860-1352b7005589 button.colab-df-convert');\n",
              "        buttonEl.style.display =\n",
              "          google.colab.kernel.accessAllowed ? 'block' : 'none';\n",
              "\n",
              "        async function convertToInteractive(key) {\n",
              "          const element = document.querySelector('#df-e401e97c-1e85-4d0b-8860-1352b7005589');\n",
              "          const dataTable =\n",
              "            await google.colab.kernel.invokeFunction('convertToInteractive',\n",
              "                                                     [key], {});\n",
              "          if (!dataTable) return;\n",
              "\n",
              "          const docLinkHtml = 'Like what you see? Visit the ' +\n",
              "            '<a target=\"_blank\" href=https://colab.research.google.com/notebooks/data_table.ipynb>data table notebook</a>'\n",
              "            + ' to learn more about interactive tables.';\n",
              "          element.innerHTML = '';\n",
              "          dataTable['output_type'] = 'display_data';\n",
              "          await google.colab.output.renderOutput(dataTable, element);\n",
              "          const docLink = document.createElement('div');\n",
              "          docLink.innerHTML = docLinkHtml;\n",
              "          element.appendChild(docLink);\n",
              "        }\n",
              "      </script>\n",
              "    </div>\n",
              "  </div>\n",
              "  "
            ]
          },
          "metadata": {},
          "execution_count": 23
        }
      ]
    },
    {
      "cell_type": "code",
      "source": [
        "df.hist(grid=False,figsize=(10,7),bins=30)"
      ],
      "metadata": {
        "colab": {
          "base_uri": "https://localhost:8080/",
          "height": 618
        },
        "id": "hSFHG76GcS_w",
        "outputId": "a849a4c2-c447-44d7-bab1-7e2f681cc3d5"
      },
      "execution_count": null,
      "outputs": [
        {
          "output_type": "execute_result",
          "data": {
            "text/plain": [
              "array([[<matplotlib.axes._subplots.AxesSubplot object at 0x7f96e1f61a50>,\n",
              "        <matplotlib.axes._subplots.AxesSubplot object at 0x7f96e1fc9bd0>,\n",
              "        <matplotlib.axes._subplots.AxesSubplot object at 0x7f96e1f98650>],\n",
              "       [<matplotlib.axes._subplots.AxesSubplot object at 0x7f96e1ecfa10>,\n",
              "        <matplotlib.axes._subplots.AxesSubplot object at 0x7f96e1f04f10>,\n",
              "        <matplotlib.axes._subplots.AxesSubplot object at 0x7f96e1ec5450>],\n",
              "       [<matplotlib.axes._subplots.AxesSubplot object at 0x7f96e1e7d950>,\n",
              "        <matplotlib.axes._subplots.AxesSubplot object at 0x7f96e1e34e50>,\n",
              "        <matplotlib.axes._subplots.AxesSubplot object at 0x7f96e1e4a310>]],\n",
              "      dtype=object)"
            ]
          },
          "metadata": {},
          "execution_count": 24
        },
        {
          "output_type": "display_data",
          "data": {
            "text/plain": [
              "<Figure size 720x504 with 9 Axes>"
            ],
            "image/png": "[encoded data removed]"
          },
          "metadata": {
            "needs_background": "light"
          }
        }
      ]
    },
    {
      "cell_type": "code",
      "source": [
        "from scipy.stats import skew, kurtosis\n",
        "print(\"Negative\",skew(df.iloc[:,2]))\n",
        "print(\"reversed\",skew(max(df.iloc[:,2]+1)-df.iloc[:,2]))"
      ],
      "metadata": {
        "colab": {
          "base_uri": "https://localhost:8080/"
        },
        "id": "hCSXJPjbcesa",
        "outputId": "ecc1431a-ca56-4107-8364-28046cbfca6f"
      },
      "execution_count": null,
      "outputs": [
        {
          "output_type": "stream",
          "name": "stdout",
          "text": [
            "Negative -0.6901407646903879\n",
            "reversed 0.6901407646903879\n"
          ]
        }
      ]
    },
    {
      "cell_type": "code",
      "source": [
        "#sqrt Transform\n",
        "#left skewed\n",
        "\n",
        "df.insert(len(df.columns),'N_sqrt',np.sqrt(max(df.iloc[:,2]+1)- df.iloc[:,2]))"
      ],
      "metadata": {
        "id": "72F2ex_idemG"
      },
      "execution_count": null,
      "outputs": []
    },
    {
      "cell_type": "code",
      "source": [
        "df.hist(grid=False,figsize=(10,7),bins=30)"
      ],
      "metadata": {
        "colab": {
          "base_uri": "https://localhost:8080/",
          "height": 618
        },
        "id": "53R8dYANd1pF",
        "outputId": "39bd7fc1-f668-490f-87fa-948a52d69b12"
      },
      "execution_count": null,
      "outputs": [
        {
          "output_type": "execute_result",
          "data": {
            "text/plain": [
              "array([[<matplotlib.axes._subplots.AxesSubplot object at 0x7f96d6061c90>,\n",
              "        <matplotlib.axes._subplots.AxesSubplot object at 0x7f96d60c8f10>,\n",
              "        <matplotlib.axes._subplots.AxesSubplot object at 0x7f96d6026d90>],\n",
              "       [<matplotlib.axes._subplots.AxesSubplot object at 0x7f96d5fe43d0>,\n",
              "        <matplotlib.axes._subplots.AxesSubplot object at 0x7f96d5f987d0>,\n",
              "        <matplotlib.axes._subplots.AxesSubplot object at 0x7f96d5fd0dd0>],\n",
              "       [<matplotlib.axes._subplots.AxesSubplot object at 0x7f96d5f93410>,\n",
              "        <matplotlib.axes._subplots.AxesSubplot object at 0x7f96d5f4aa10>,\n",
              "        <matplotlib.axes._subplots.AxesSubplot object at 0x7f96d5ed4e90>]],\n",
              "      dtype=object)"
            ]
          },
          "metadata": {},
          "execution_count": 27
        },
        {
          "output_type": "display_data",
          "data": {
            "text/plain": [
              "<Figure size 720x504 with 9 Axes>"
            ],
            "image/png": "[encoded data removed]"
          },
          "metadata": {
            "needs_background": "light"
          }
        }
      ]
    },
    {
      "cell_type": "code",
      "source": [
        "#box-Cox Transformation\n",
        "from scipy.stats import boxcox\n",
        "df.insert(len(df.columns),'Boxcox',boxcox(df.iloc[:,0])[0])"
      ],
      "metadata": {
        "id": "p_6jINWJemnW"
      },
      "execution_count": null,
      "outputs": []
    },
    {
      "cell_type": "code",
      "source": [
        "df.head()"
      ],
      "metadata": {
        "colab": {
          "base_uri": "https://localhost:8080/",
          "height": 250
        },
        "id": "WxwlYVhhfaxC",
        "outputId": "adfd6e2a-f431-44b6-ad65-67127ec7abc9"
      },
      "execution_count": null,
      "outputs": [
        {
          "output_type": "execute_result",
          "data": {
            "text/plain": [
              "   Moderate Positive Skew  Highly Positive Skew  Moderate Negative Skew  \\\n",
              "0                0.899990              2.895074               11.180748   \n",
              "1                1.113554              2.962385               10.842938   \n",
              "2                1.156830              2.966378               10.817934   \n",
              "3                1.264131              3.000324               10.764570   \n",
              "4                1.323914              3.012109               10.753117   \n",
              "\n",
              "   Highly Negative Skew     p_log     N_log    N1_log    P_sqrt    N_sqrt  \\\n",
              "0              9.027485  1.063011 -8.680891  0.000000  0.948678  1.000000   \n",
              "1              9.009762  1.085995 -8.343081  0.291034  1.055251  1.156637   \n",
              "2              9.006134  1.087342 -8.318077  0.309552  1.075560  1.167396   \n",
              "3              9.000125  1.098720 -8.264713  0.347962  1.124336  1.190033   \n",
              "4              8.981296  1.102640 -8.253260  0.356016  1.150615  1.194835   \n",
              "\n",
              "     Boxcox  \n",
              "0 -0.103432  \n",
              "1  0.109628  \n",
              "2  0.149502  \n",
              "3  0.244374  \n",
              "4  0.294988  "
            ],
            "text/html": [
              "\n",
              "  <div id=\"df-e18bf318-f012-469b-a76e-ac33d9bf6764\">\n",
              "    <div class=\"colab-df-container\">\n",
              "      <div>\n",
              "<style scoped>\n",
              "    .dataframe tbody tr th:only-of-type {\n",
              "        vertical-align: middle;\n",
              "    }\n",
              "\n",
              "    .dataframe tbody tr th {\n",
              "        vertical-align: top;\n",
              "    }\n",
              "\n",
              "    .dataframe thead th {\n",
              "        text-align: right;\n",
              "    }\n",
              "</style>\n",
              "<table border=\"1\" class=\"dataframe\">\n",
              "  <thead>\n",
              "    <tr style=\"text-align: right;\">\n",
              "      <th></th>\n",
              "      <th>Moderate Positive Skew</th>\n",
              "      <th>Highly Positive Skew</th>\n",
              "      <th>Moderate Negative Skew</th>\n",
              "      <th>Highly Negative Skew</th>\n",
              "      <th>p_log</th>\n",
              "      <th>N_log</th>\n",
              "      <th>N1_log</th>\n",
              "      <th>P_sqrt</th>\n",
              "      <th>N_sqrt</th>\n",
              "      <th>Boxcox</th>\n",
              "    </tr>\n",
              "  </thead>\n",
              "  <tbody>\n",
              "    <tr>\n",
              "      <th>0</th>\n",
              "      <td>0.899990</td>\n",
              "      <td>2.895074</td>\n",
              "      <td>11.180748</td>\n",
              "      <td>9.027485</td>\n",
              "      <td>1.063011</td>\n",
              "      <td>-8.680891</td>\n",
              "      <td>0.000000</td>\n",
              "      <td>0.948678</td>\n",
              "      <td>1.000000</td>\n",
              "      <td>-0.103432</td>\n",
              "    </tr>\n",
              "    <tr>\n",
              "      <th>1</th>\n",
              "      <td>1.113554</td>\n",
              "      <td>2.962385</td>\n",
              "      <td>10.842938</td>\n",
              "      <td>9.009762</td>\n",
              "      <td>1.085995</td>\n",
              "      <td>-8.343081</td>\n",
              "      <td>0.291034</td>\n",
              "      <td>1.055251</td>\n",
              "      <td>1.156637</td>\n",
              "      <td>0.109628</td>\n",
              "    </tr>\n",
              "    <tr>\n",
              "      <th>2</th>\n",
              "      <td>1.156830</td>\n",
              "      <td>2.966378</td>\n",
              "      <td>10.817934</td>\n",
              "      <td>9.006134</td>\n",
              "      <td>1.087342</td>\n",
              "      <td>-8.318077</td>\n",
              "      <td>0.309552</td>\n",
              "      <td>1.075560</td>\n",
              "      <td>1.167396</td>\n",
              "      <td>0.149502</td>\n",
              "    </tr>\n",
              "    <tr>\n",
              "      <th>3</th>\n",
              "      <td>1.264131</td>\n",
              "      <td>3.000324</td>\n",
              "      <td>10.764570</td>\n",
              "      <td>9.000125</td>\n",
              "      <td>1.098720</td>\n",
              "      <td>-8.264713</td>\n",
              "      <td>0.347962</td>\n",
              "      <td>1.124336</td>\n",
              "      <td>1.190033</td>\n",
              "      <td>0.244374</td>\n",
              "    </tr>\n",
              "    <tr>\n",
              "      <th>4</th>\n",
              "      <td>1.323914</td>\n",
              "      <td>3.012109</td>\n",
              "      <td>10.753117</td>\n",
              "      <td>8.981296</td>\n",
              "      <td>1.102640</td>\n",
              "      <td>-8.253260</td>\n",
              "      <td>0.356016</td>\n",
              "      <td>1.150615</td>\n",
              "      <td>1.194835</td>\n",
              "      <td>0.294988</td>\n",
              "    </tr>\n",
              "  </tbody>\n",
              "</table>\n",
              "</div>\n",
              "      <button class=\"colab-df-convert\" onclick=\"convertToInteractive('df-e18bf318-f012-469b-a76e-ac33d9bf6764')\"\n",
              "              title=\"Convert this dataframe to an interactive table.\"\n",
              "              style=\"display:none;\">\n",
              "        \n",
              "  <svg xmlns=\"http://www.w3.org/2000/svg\" height=\"24px\"viewBox=\"0 0 24 24\"\n",
              "       width=\"24px\">\n",
              "    <path d=\"M0 0h24v24H0V0z\" fill=\"none\"/>\n",
              "    <path d=\"M18.56 5.44l.94 2.06.94-2.06 2.06-.94-2.06-.94-.94-2.06-.94 2.06-2.06.94zm-11 1L8.5 8.5l.94-2.06 2.06-.94-2.06-.94L8.5 2.5l-.94 2.06-2.06.94zm10 10l.94 2.06.94-2.06 2.06-.94-2.06-.94-.94-2.06-.94 2.06-2.06.94z\"/><path d=\"M17.41 7.96l-1.37-1.37c-.4-.4-.92-.59-1.43-.59-.52 0-1.04.2-1.43.59L10.3 9.45l-7.72 7.72c-.78.78-.78 2.05 0 2.83L4 21.41c.39.39.9.59 1.41.59.51 0 1.02-.2 1.41-.59l7.78-7.78 2.81-2.81c.8-.78.8-2.07 0-2.86zM5.41 20L4 18.59l7.72-7.72 1.47 1.35L5.41 20z\"/>\n",
              "  </svg>\n",
              "      </button>\n",
              "      \n",
              "  <style>\n",
              "    .colab-df-container {\n",
              "      display:flex;\n",
              "      flex-wrap:wrap;\n",
              "      gap: 12px;\n",
              "    }\n",
              "\n",
              "    .colab-df-convert {\n",
              "      background-color: #E8F0FE;\n",
              "      border: none;\n",
              "      border-radius: 50%;\n",
              "      cursor: pointer;\n",
              "      display: none;\n",
              "      fill: #1967D2;\n",
              "      height: 32px;\n",
              "      padding: 0 0 0 0;\n",
              "      width: 32px;\n",
              "    }\n",
              "\n",
              "    .colab-df-convert:hover {\n",
              "      background-color: #E2EBFA;\n",
              "      box-shadow: 0px 1px 2px rgba(60, 64, 67, 0.3), 0px 1px 3px 1px rgba(60, 64, 67, 0.15);\n",
              "      fill: #174EA6;\n",
              "    }\n",
              "\n",
              "    [theme=dark] .colab-df-convert {\n",
              "      background-color: #3B4455;\n",
              "      fill: #D2E3FC;\n",
              "    }\n",
              "\n",
              "    [theme=dark] .colab-df-convert:hover {\n",
              "      background-color: #434B5C;\n",
              "      box-shadow: 0px 1px 3px 1px rgba(0, 0, 0, 0.15);\n",
              "      filter: drop-shadow(0px 1px 2px rgba(0, 0, 0, 0.3));\n",
              "      fill: #FFFFFF;\n",
              "    }\n",
              "  </style>\n",
              "\n",
              "      <script>\n",
              "        const buttonEl =\n",
              "          document.querySelector('#df-e18bf318-f012-469b-a76e-ac33d9bf6764 button.colab-df-convert');\n",
              "        buttonEl.style.display =\n",
              "          google.colab.kernel.accessAllowed ? 'block' : 'none';\n",
              "\n",
              "        async function convertToInteractive(key) {\n",
              "          const element = document.querySelector('#df-e18bf318-f012-469b-a76e-ac33d9bf6764');\n",
              "          const dataTable =\n",
              "            await google.colab.kernel.invokeFunction('convertToInteractive',\n",
              "                                                     [key], {});\n",
              "          if (!dataTable) return;\n",
              "\n",
              "          const docLinkHtml = 'Like what you see? Visit the ' +\n",
              "            '<a target=\"_blank\" href=https://colab.research.google.com/notebooks/data_table.ipynb>data table notebook</a>'\n",
              "            + ' to learn more about interactive tables.';\n",
              "          element.innerHTML = '';\n",
              "          dataTable['output_type'] = 'display_data';\n",
              "          await google.colab.output.renderOutput(dataTable, element);\n",
              "          const docLink = document.createElement('div');\n",
              "          docLink.innerHTML = docLinkHtml;\n",
              "          element.appendChild(docLink);\n",
              "        }\n",
              "      </script>\n",
              "    </div>\n",
              "  </div>\n",
              "  "
            ]
          },
          "metadata": {},
          "execution_count": 32
        }
      ]
    },
    {
      "cell_type": "code",
      "source": [
        "from scipy.stats import boxcox\n",
        "df.insert(len(df.columns),'Boxcox',boxcox(df.iloc[:,2])[0])"
      ],
      "metadata": {
        "colab": {
          "base_uri": "https://localhost:8080/",
          "height": 304
        },
        "id": "yMjUhwIOfncA",
        "outputId": "b6222401-8fe8-458c-9365-66d8c5c4bad6"
      },
      "execution_count": null,
      "outputs": [
        {
          "output_type": "error",
          "ename": "ValueError",
          "evalue": "ignored",
          "traceback": [
            "\u001b[0;31m---------------------------------------------------------------------------\u001b[0m",
            "\u001b[0;31mValueError\u001b[0m                                Traceback (most recent call last)",
            "\u001b[0;32m<ipython-input-33-2e37fbecc786>\u001b[0m in \u001b[0;36m<module>\u001b[0;34m\u001b[0m\n\u001b[1;32m      1\u001b[0m \u001b[0;32mfrom\u001b[0m \u001b[0mscipy\u001b[0m\u001b[0;34m.\u001b[0m\u001b[0mstats\u001b[0m \u001b[0;32mimport\u001b[0m \u001b[0mboxcox\u001b[0m\u001b[0;34m\u001b[0m\u001b[0;34m\u001b[0m\u001b[0m\n\u001b[0;32m----> 2\u001b[0;31m \u001b[0mdf\u001b[0m\u001b[0;34m.\u001b[0m\u001b[0minsert\u001b[0m\u001b[0;34m(\u001b[0m\u001b[0mlen\u001b[0m\u001b[0;34m(\u001b[0m\u001b[0mdf\u001b[0m\u001b[0;34m.\u001b[0m\u001b[0mcolumns\u001b[0m\u001b[0;34m)\u001b[0m\u001b[0;34m,\u001b[0m\u001b[0;34m'Boxcox'\u001b[0m\u001b[0;34m,\u001b[0m\u001b[0mboxcox\u001b[0m\u001b[0;34m(\u001b[0m\u001b[0mdf\u001b[0m\u001b[0;34m.\u001b[0m\u001b[0miloc\u001b[0m\u001b[0;34m[\u001b[0m\u001b[0;34m:\u001b[0m\u001b[0;34m,\u001b[0m\u001b[0;36m2\u001b[0m\u001b[0;34m]\u001b[0m\u001b[0;34m)\u001b[0m\u001b[0;34m[\u001b[0m\u001b[0;36m0\u001b[0m\u001b[0;34m]\u001b[0m\u001b[0;34m)\u001b[0m\u001b[0;34m\u001b[0m\u001b[0;34m\u001b[0m\u001b[0m\n\u001b[0m",
            "\u001b[0;32m/usr/local/lib/python3.7/dist-packages/scipy/stats/morestats.py\u001b[0m in \u001b[0;36mboxcox\u001b[0;34m(x, lmbda, alpha, optimizer)\u001b[0m\n\u001b[1;32m   1062\u001b[0m \u001b[0;34m\u001b[0m\u001b[0m\n\u001b[1;32m   1063\u001b[0m     \u001b[0;32mif\u001b[0m \u001b[0mnp\u001b[0m\u001b[0;34m.\u001b[0m\u001b[0many\u001b[0m\u001b[0;34m(\u001b[0m\u001b[0mx\u001b[0m \u001b[0;34m<=\u001b[0m \u001b[0;36m0\u001b[0m\u001b[0;34m)\u001b[0m\u001b[0;34m:\u001b[0m\u001b[0;34m\u001b[0m\u001b[0;34m\u001b[0m\u001b[0m\n\u001b[0;32m-> 1064\u001b[0;31m         \u001b[0;32mraise\u001b[0m \u001b[0mValueError\u001b[0m\u001b[0;34m(\u001b[0m\u001b[0;34m\"Data must be positive.\"\u001b[0m\u001b[0;34m)\u001b[0m\u001b[0;34m\u001b[0m\u001b[0;34m\u001b[0m\u001b[0m\n\u001b[0m\u001b[1;32m   1065\u001b[0m \u001b[0;34m\u001b[0m\u001b[0m\n\u001b[1;32m   1066\u001b[0m     \u001b[0;32mif\u001b[0m \u001b[0mlmbda\u001b[0m \u001b[0;32mis\u001b[0m \u001b[0;32mnot\u001b[0m \u001b[0;32mNone\u001b[0m\u001b[0;34m:\u001b[0m  \u001b[0;31m# single transformation\u001b[0m\u001b[0;34m\u001b[0m\u001b[0;34m\u001b[0m\u001b[0m\n",
            "\u001b[0;31mValueError\u001b[0m: Data must be positive."
          ]
        }
      ]
    },
    {
      "cell_type": "code",
      "source": [
        "df.agg('skew')"
      ],
      "metadata": {
        "colab": {
          "base_uri": "https://localhost:8080/"
        },
        "id": "JUxdevEIf34n",
        "outputId": "0024dd6e-9552-4442-b5d6-1191427ba635"
      },
      "execution_count": null,
      "outputs": [
        {
          "output_type": "execute_result",
          "data": {
            "text/plain": [
              "Moderate Positive Skew    0.656308\n",
              "Highly Positive Skew      1.271249\n",
              "Moderate Negative Skew   -0.690244\n",
              "Highly Negative Skew     -1.201891\n",
              "p_log                     0.398780\n",
              "N_log                     0.690244\n",
              "N1_log                   -0.361324\n",
              "P_sqrt                    0.152479\n",
              "N_sqrt                    0.179761\n",
              "Boxcox                    0.000155\n",
              "dtype: float64"
            ]
          },
          "metadata": {},
          "execution_count": 34
        }
      ]
    },
    {
      "cell_type": "code",
      "source": [
        "df.hist(grid=False,figsize=(10,10),bins=30)"
      ],
      "metadata": {
        "colab": {
          "base_uri": "https://localhost:8080/",
          "height": 833
        },
        "id": "fPufLSeKgWwK",
        "outputId": "5317ae56-98d5-475d-dc83-bf884b86266c"
      },
      "execution_count": null,
      "outputs": [
        {
          "output_type": "execute_result",
          "data": {
            "text/plain": [
              "array([[<matplotlib.axes._subplots.AxesSubplot object at 0x7f96d5f76310>,\n",
              "        <matplotlib.axes._subplots.AxesSubplot object at 0x7f96d4f52c10>,\n",
              "        <matplotlib.axes._subplots.AxesSubplot object at 0x7f96d4bc3290>],\n",
              "       [<matplotlib.axes._subplots.AxesSubplot object at 0x7f96d4b70790>,\n",
              "        <matplotlib.axes._subplots.AxesSubplot object at 0x7f96d4b26c90>,\n",
              "        <matplotlib.axes._subplots.AxesSubplot object at 0x7f96d4aea1d0>],\n",
              "       [<matplotlib.axes._subplots.AxesSubplot object at 0x7f96d4a9e6d0>,\n",
              "        <matplotlib.axes._subplots.AxesSubplot object at 0x7f96d4a55bd0>,\n",
              "        <matplotlib.axes._subplots.AxesSubplot object at 0x7f96d4a6b090>],\n",
              "       [<matplotlib.axes._subplots.AxesSubplot object at 0x7f96d4a22690>,\n",
              "        <matplotlib.axes._subplots.AxesSubplot object at 0x7f96d4a04b10>,\n",
              "        <matplotlib.axes._subplots.AxesSubplot object at 0x7f96d49ca050>]],\n",
              "      dtype=object)"
            ]
          },
          "metadata": {},
          "execution_count": 37
        },
        {
          "output_type": "display_data",
          "data": {
            "text/plain": [
              "<Figure size 720x720 with 12 Axes>"
            ],
            "image/png": "[encoded data removed]"
          },
          "metadata": {
            "needs_background": "light"
          }
        }
      ]
    }
  ]
}